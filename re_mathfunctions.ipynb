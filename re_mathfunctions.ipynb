{
 "cells": [
  {
   "cell_type": "markdown",
   "id": "c8389431-e05a-4152-b6fa-c2bd53497f8c",
   "metadata": {},
   "source": [
    "**To avoid unnecessary warning**"
   ]
  },
  {
   "cell_type": "code",
   "execution_count": 25,
   "id": "846ca007-dd6a-4802-8ca3-2bc0b9223fd3",
   "metadata": {},
   "outputs": [],
   "source": [
    "import warnings\n",
    "warnings.filterwarnings('ignore')"
   ]
  },
  {
   "cell_type": "markdown",
   "id": "56f1787e-b903-4e71-8b3f-12a75a361aec",
   "metadata": {},
   "source": [
    "**slicing**"
   ]
  },
  {
   "cell_type": "code",
   "execution_count": 2,
   "id": "187d6564-4c29-4abb-8520-aff5d7001ac4",
   "metadata": {},
   "outputs": [
    {
     "data": {
      "text/plain": [
       "'ihtroops'"
      ]
     },
     "execution_count": 2,
     "metadata": {},
     "output_type": "execute_result"
    }
   ],
   "source": [
    "#reversing a string\n",
    "name=\"spoorthi\"\n",
    "name[ ::-1]"
   ]
  },
  {
   "cell_type": "code",
   "execution_count": 10,
   "id": "eabb099b-f513-4acb-999a-f7f3a0d14b48",
   "metadata": {},
   "outputs": [
    {
     "data": {
      "text/plain": [
       "'02468'"
      ]
     },
     "execution_count": 10,
     "metadata": {},
     "output_type": "execute_result"
    }
   ],
   "source": [
    "#even numbers in a string\n",
    "num=\"0123456789\"\n",
    "num[::2]"
   ]
  },
  {
   "cell_type": "markdown",
   "id": "385a0a87-b1d1-414f-9965-0ecd4278a0a3",
   "metadata": {},
   "source": [
    "**regular expression**"
   ]
  },
  {
   "cell_type": "code",
   "execution_count": 13,
   "id": "d49f5f44-82b6-4e59-855a-855bf01d63df",
   "metadata": {},
   "outputs": [],
   "source": [
    "#use import to import package\n",
    "import re"
   ]
  },
  {
   "cell_type": "code",
   "execution_count": 15,
   "id": "a028b664-faac-4c18-9891-44aa14051d1d",
   "metadata": {},
   "outputs": [
    {
     "data": {
      "text/plain": [
       "['A',\n",
       " 'ASCII',\n",
       " 'DEBUG',\n",
       " 'DOTALL',\n",
       " 'I',\n",
       " 'IGNORECASE',\n",
       " 'L',\n",
       " 'LOCALE',\n",
       " 'M',\n",
       " 'MULTILINE',\n",
       " 'Match',\n",
       " 'NOFLAG',\n",
       " 'Pattern',\n",
       " 'RegexFlag',\n",
       " 'S',\n",
       " 'Scanner',\n",
       " 'T',\n",
       " 'TEMPLATE',\n",
       " 'U',\n",
       " 'UNICODE',\n",
       " 'VERBOSE',\n",
       " 'X',\n",
       " '_MAXCACHE',\n",
       " '_MAXCACHE2',\n",
       " '__all__',\n",
       " '__builtins__',\n",
       " '__cached__',\n",
       " '__doc__',\n",
       " '__file__',\n",
       " '__loader__',\n",
       " '__name__',\n",
       " '__package__',\n",
       " '__path__',\n",
       " '__spec__',\n",
       " '__version__',\n",
       " '_cache',\n",
       " '_cache2',\n",
       " '_casefix',\n",
       " '_compile',\n",
       " '_compile_template',\n",
       " '_compiler',\n",
       " '_constants',\n",
       " '_parser',\n",
       " '_pickle',\n",
       " '_special_chars_map',\n",
       " '_sre',\n",
       " 'compile',\n",
       " 'copyreg',\n",
       " 'enum',\n",
       " 'error',\n",
       " 'escape',\n",
       " 'findall',\n",
       " 'finditer',\n",
       " 'fullmatch',\n",
       " 'functools',\n",
       " 'match',\n",
       " 'purge',\n",
       " 'search',\n",
       " 'split',\n",
       " 'sub',\n",
       " 'subn',\n",
       " 'template']"
      ]
     },
     "execution_count": 15,
     "metadata": {},
     "output_type": "execute_result"
    }
   ],
   "source": [
    "#functions in regular expression package\n",
    "dir(re)"
   ]
  },
  {
   "cell_type": "markdown",
   "id": "229da52b-389b-4e7f-94bc-5052afef6dba",
   "metadata": {},
   "source": [
    "**\\s** - Returns a match where the string contains a white space character"
   ]
  },
  {
   "cell_type": "code",
   "execution_count": 33,
   "id": "3bae274e-3a5a-4412-9478-5330348549bd",
   "metadata": {},
   "outputs": [
    {
     "data": {
      "text/plain": [
       "[' ', ' ', ' ', ' ']"
      ]
     },
     "execution_count": 33,
     "metadata": {},
     "output_type": "execute_result"
    }
   ],
   "source": [
    "str1=\"It's already 2025, time flies!\"\n",
    "re.findall('\\s',str1)"
   ]
  },
  {
   "cell_type": "markdown",
   "id": "744e59ff-f9e9-4dd3-94c7-4aef44def44c",
   "metadata": {},
   "source": [
    "**\\S** - Returns a match where the string DOES NOT contain a white space character"
   ]
  },
  {
   "cell_type": "code",
   "execution_count": 35,
   "id": "c0f7a226-458a-45e4-92d4-5fa748f93db7",
   "metadata": {},
   "outputs": [
    {
     "data": {
      "text/plain": [
       "['I',\n",
       " 't',\n",
       " \"'\",\n",
       " 's',\n",
       " 'a',\n",
       " 'l',\n",
       " 'r',\n",
       " 'e',\n",
       " 'a',\n",
       " 'd',\n",
       " 'y',\n",
       " '2',\n",
       " '0',\n",
       " '2',\n",
       " '5',\n",
       " ',',\n",
       " 't',\n",
       " 'i',\n",
       " 'm',\n",
       " 'e',\n",
       " 'f',\n",
       " 'l',\n",
       " 'i',\n",
       " 'e',\n",
       " 's',\n",
       " '!']"
      ]
     },
     "execution_count": 35,
     "metadata": {},
     "output_type": "execute_result"
    }
   ],
   "source": [
    "re.findall('\\S',str1)"
   ]
  },
  {
   "cell_type": "markdown",
   "id": "503b2bad-9aad-4c88-b8ff-8b37cfd6b5ac",
   "metadata": {},
   "source": [
    "**\\d**- Returns a match where the string contains digits (numbers from 0-9)"
   ]
  },
  {
   "cell_type": "code",
   "execution_count": 39,
   "id": "81b73108-e472-4b8d-be19-56988f06e00a",
   "metadata": {},
   "outputs": [
    {
     "data": {
      "text/plain": [
       "['2', '0', '2', '5']"
      ]
     },
     "execution_count": 39,
     "metadata": {},
     "output_type": "execute_result"
    }
   ],
   "source": [
    "re.findall('\\d',str1)"
   ]
  },
  {
   "cell_type": "markdown",
   "id": "2725ac8f-151b-4d0c-8ed0-3b5d5d10b143",
   "metadata": {},
   "source": [
    "**\\D**- Returns a match where the string DOES NOT contain digits"
   ]
  },
  {
   "cell_type": "code",
   "execution_count": 49,
   "id": "63cdffec-069d-41cd-bbc7-3cd6dbb19c98",
   "metadata": {},
   "outputs": [],
   "source": [
    "re.findall('\\D',str1)"
   ]
  },
  {
   "cell_type": "markdown",
   "id": "a01e4625-9981-4c4e-9959-6fd77292767d",
   "metadata": {},
   "source": [
    "**\\w**- Returns a match where the string contains any word characters (characters from a to Z, digits from 0-9, and the underscore _ character)"
   ]
  },
  {
   "cell_type": "code",
   "execution_count": 53,
   "id": "f2b9de8a-0b08-4abd-83c9-efac463fed29",
   "metadata": {},
   "outputs": [
    {
     "data": {
      "text/plain": [
       "['I',\n",
       " 't',\n",
       " 's',\n",
       " 'a',\n",
       " 'l',\n",
       " 'r',\n",
       " 'e',\n",
       " 'a',\n",
       " 'd',\n",
       " 'y',\n",
       " '2',\n",
       " '0',\n",
       " '2',\n",
       " '5',\n",
       " 't',\n",
       " 'i',\n",
       " 'm',\n",
       " 'e',\n",
       " 'f',\n",
       " 'l',\n",
       " 'i',\n",
       " 'e',\n",
       " 's']"
      ]
     },
     "execution_count": 53,
     "metadata": {},
     "output_type": "execute_result"
    }
   ],
   "source": [
    "re.findall('\\w',str1)"
   ]
  },
  {
   "cell_type": "markdown",
   "id": "be2a9199-0461-41e6-8e07-e3494872436e",
   "metadata": {},
   "source": [
    "**\\W** Returns a match where the string DOES NOT contain any word characters"
   ]
  },
  {
   "cell_type": "code",
   "execution_count": 60,
   "id": "8f6dfe15-89a5-4c36-906b-9a5cf5b765ef",
   "metadata": {},
   "outputs": [
    {
     "data": {
      "text/plain": [
       "[\"'\", ' ', ' ', ',', ' ', ' ', '!']"
      ]
     },
     "execution_count": 60,
     "metadata": {},
     "output_type": "execute_result"
    }
   ],
   "source": [
    "re.findall('\\W',str1)"
   ]
  },
  {
   "cell_type": "markdown",
   "id": "42537854-0389-4092-92a9-2208963b7b6c",
   "metadata": {},
   "source": [
    "**\\A** -Returns a match if the specified characters are at the beginning of the string"
   ]
  },
  {
   "cell_type": "code",
   "execution_count": 62,
   "id": "b530d811-1b39-4578-8eb5-65dc6e81e232",
   "metadata": {},
   "outputs": [
    {
     "data": {
      "text/plain": [
       "[\"It's\"]"
      ]
     },
     "execution_count": 62,
     "metadata": {},
     "output_type": "execute_result"
    }
   ],
   "source": [
    "re.findall(\"\\AIt's\",str1)"
   ]
  },
  {
   "cell_type": "markdown",
   "id": "220e61be-d3d5-4102-ada1-1f88fa08fd4d",
   "metadata": {},
   "source": [
    "**\\Z**-\tReturns a match if the specified characters are at the end of the string"
   ]
  },
  {
   "cell_type": "code",
   "execution_count": 67,
   "id": "6132e23f-ac13-4a09-bc0a-6a637bb88d1f",
   "metadata": {},
   "outputs": [
    {
     "data": {
      "text/plain": [
       "['flies!']"
      ]
     },
     "execution_count": 67,
     "metadata": {},
     "output_type": "execute_result"
    }
   ],
   "source": [
    "re.findall(\"flies!\\Z\",str1)"
   ]
  },
  {
   "cell_type": "markdown",
   "id": "83a24144-5365-4d05-bdc8-13533f1db22e",
   "metadata": {},
   "source": [
    "**math**"
   ]
  },
  {
   "cell_type": "code",
   "execution_count": 70,
   "id": "991d5895-2605-4a12-9d1b-7e39367aa395",
   "metadata": {},
   "outputs": [],
   "source": [
    "#import math library\n",
    "import math"
   ]
  },
  {
   "cell_type": "markdown",
   "id": "fc4c9774-314b-4bb0-a0a1-c7e021d2eb5e",
   "metadata": {},
   "source": [
    "**sqrt()**- Returns the square root of a number"
   ]
  },
  {
   "cell_type": "code",
   "execution_count": 72,
   "id": "f563aef5-346f-45d2-8fbe-127e6bf75b34",
   "metadata": {},
   "outputs": [
    {
     "data": {
      "text/plain": [
       "5.0"
      ]
     },
     "execution_count": 72,
     "metadata": {},
     "output_type": "execute_result"
    }
   ],
   "source": [
    "math.sqrt(25)"
   ]
  },
  {
   "cell_type": "markdown",
   "id": "b1c48f88-55eb-47f6-972a-42a31d9eff11",
   "metadata": {},
   "source": [
    "**cbrt()**- Returns the cube root of a number"
   ]
  },
  {
   "cell_type": "code",
   "execution_count": 79,
   "id": "a7ec92db-a8b5-4104-86d8-d0aefff65f10",
   "metadata": {},
   "outputs": [
    {
     "data": {
      "text/plain": [
       "5.0"
      ]
     },
     "execution_count": 79,
     "metadata": {},
     "output_type": "execute_result"
    }
   ],
   "source": [
    "math.cbrt(125)"
   ]
  },
  {
   "cell_type": "markdown",
   "id": "b4738e51-e591-4bad-b15b-c5683573ee25",
   "metadata": {},
   "source": [
    "**factorial()**- Returns the factorial of a number"
   ]
  },
  {
   "cell_type": "code",
   "execution_count": 84,
   "id": "6e83b04a-0455-44f1-b50f-1bbe77acf8f5",
   "metadata": {},
   "outputs": [
    {
     "data": {
      "text/plain": [
       "120"
      ]
     },
     "execution_count": 84,
     "metadata": {},
     "output_type": "execute_result"
    }
   ],
   "source": [
    "math.factorial(5)"
   ]
  },
  {
   "cell_type": "code",
   "execution_count": 86,
   "id": "15146f3e-a99c-4417-b24c-9a5213e2371f",
   "metadata": {},
   "outputs": [
    {
     "data": {
      "text/plain": [
       "3.141592653589793"
      ]
     },
     "execution_count": 86,
     "metadata": {},
     "output_type": "execute_result"
    }
   ],
   "source": [
    "#pi value\n",
    "math.pi"
   ]
  },
  {
   "cell_type": "markdown",
   "id": "48b8aee5-7120-4e3f-9ecd-055a5d72496f",
   "metadata": {},
   "source": [
    "**sin()**- Returns the sine of a number"
   ]
  },
  {
   "cell_type": "code",
   "execution_count": 93,
   "id": "dda3ef55-6fc4-4603-96e4-07ce70c23eec",
   "metadata": {},
   "outputs": [
    {
     "data": {
      "text/plain": [
       "0.8939966636005579"
      ]
     },
     "execution_count": 93,
     "metadata": {},
     "output_type": "execute_result"
    }
   ],
   "source": [
    "#we have not mentioned degree so we dont get sin(90) as 1\n",
    "math.sin(90)"
   ]
  },
  {
   "cell_type": "code",
   "execution_count": 95,
   "id": "4d1c6bf3-9a60-4569-b08c-cbeea2cac6ee",
   "metadata": {},
   "outputs": [
    {
     "data": {
      "text/plain": [
       "1.0"
      ]
     },
     "execution_count": 95,
     "metadata": {},
     "output_type": "execute_result"
    }
   ],
   "source": [
    "#to mention degree\n",
    "math.sin(math.pi/2)"
   ]
  },
  {
   "cell_type": "markdown",
   "id": "7befa6f0-235a-4d6a-8daf-7fb01ec6b06e",
   "metadata": {},
   "source": [
    "**log()**- Returns the natural logarithm of a number, or the logarithm of number to base"
   ]
  },
  {
   "cell_type": "code",
   "execution_count": 98,
   "id": "ed84d1a0-3725-4988-9cd7-80e1f2899f3e",
   "metadata": {},
   "outputs": [
    {
     "data": {
      "text/plain": [
       "0.3010299956639812"
      ]
     },
     "execution_count": 98,
     "metadata": {},
     "output_type": "execute_result"
    }
   ],
   "source": [
    "math.log10(2)"
   ]
  },
  {
   "cell_type": "markdown",
   "id": "110e4686-4c5f-4f87-b057-18b7f0f0f0c8",
   "metadata": {},
   "source": [
    "**exp()**- Returns e raised to the power of x"
   ]
  },
  {
   "cell_type": "code",
   "execution_count": 101,
   "id": "6816a713-632c-4d4c-85f6-9ca183e54247",
   "metadata": {},
   "outputs": [
    {
     "data": {
      "text/plain": [
       "20.085536923187668"
      ]
     },
     "execution_count": 101,
     "metadata": {},
     "output_type": "execute_result"
    }
   ],
   "source": [
    "math.exp(3)"
   ]
  }
 ],
 "metadata": {
  "kernelspec": {
   "display_name": "Python [conda env:base] *",
   "language": "python",
   "name": "conda-base-py"
  },
  "language_info": {
   "codemirror_mode": {
    "name": "ipython",
    "version": 3
   },
   "file_extension": ".py",
   "mimetype": "text/x-python",
   "name": "python",
   "nbconvert_exporter": "python",
   "pygments_lexer": "ipython3",
   "version": "3.12.7"
  }
 },
 "nbformat": 4,
 "nbformat_minor": 5
}
