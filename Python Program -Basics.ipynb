{
 "cells": [
  {
   "cell_type": "markdown",
   "id": "1845a2fe-1e1e-4e4a-8afa-0740d9c44f81",
   "metadata": {},
   "source": [
    "#Chapter1-First python program"
   ]
  },
  {
   "cell_type": "markdown",
   "id": "a1d3a969-05f6-4f83-8b79-8a41617e4056",
   "metadata": {},
   "source": [
    "##1.1 print statement"
   ]
  },
  {
   "cell_type": "code",
   "execution_count": 10,
   "id": "0ffb9b9e-00ad-44cd-a607-2a82471d9da4",
   "metadata": {},
   "outputs": [
    {
     "name": "stdout",
     "output_type": "stream",
     "text": [
      "Hello World\n"
     ]
    }
   ],
   "source": [
    "print(\"Hello World\")"
   ]
  },
  {
   "cell_type": "code",
   "execution_count": 14,
   "id": "c3820f37-4abc-40bd-a699-ea020d7ca887",
   "metadata": {},
   "outputs": [
    {
     "name": "stdout",
     "output_type": "stream",
     "text": [
      "Hi, this is Spoorthi's Laptop\n"
     ]
    }
   ],
   "source": [
    "print(\"Hi, this is Spoorthi's Laptop\")"
   ]
  },
  {
   "cell_type": "code",
   "execution_count": 42,
   "id": "f123889d-6f14-4881-93bc-fa8c4f3f2b5b",
   "metadata": {},
   "outputs": [
    {
     "name": "stdout",
     "output_type": "stream",
     "text": [
      "Spoorthi said to Vinay, \"Data Science session was intesresting\".\n"
     ]
    }
   ],
   "source": [
    "print(\"\"\"Spoorthi said to Vinay, \"Data Science session was intesresting\".\"\"\")"
   ]
  },
  {
   "cell_type": "code",
   "execution_count": 20,
   "id": "2a0beab1-c768-402a-b911-8686f5983e68",
   "metadata": {
    "scrolled": true
   },
   "outputs": [
    {
     "name": "stdout",
     "output_type": "stream",
     "text": [
      "\"Machine learning (ML) is the study of computer algorithms that can improve \n",
      "automatically through experience and by the use of data.[1] It is seen as a part \n",
      "of artificial intelligence. Machine learning algorithms build a model based on sample data, \n",
      "known as training data, in order to make predictions or decisions without being explicitly programmed to do so.[2] \n",
      "Machine learning algorithms are used in a wide variety of applications, such as in medicine, email filtering, \n",
      "speech recognition, and computer vision, where it is difficult or unfeasible to develop conventional algorithms to \n",
      "perform the needed tasks\".\n"
     ]
    }
   ],
   "source": [
    "print(\"\"\"\"Machine learning (ML) is the study of computer algorithms that can improve \n",
    "automatically through experience and by the use of data.[1] It is seen as a part \n",
    "of artificial intelligence. Machine learning algorithms build a model based on sample data, \n",
    "known as training data, in order to make predictions or decisions without being explicitly programmed to do so.[2] \n",
    "Machine learning algorithms are used in a wide variety of applications, such as in medicine, email filtering, \n",
    "speech recognition, and computer vision, where it is difficult or unfeasible to develop conventional algorithms to \n",
    "perform the needed tasks\".\"\"\")"
   ]
  },
  {
   "cell_type": "code",
   "execution_count": 53,
   "id": "e678c6dd-ad1b-4f7c-989b-46f852ca1078",
   "metadata": {
    "collapsed": true,
    "jupyter": {
     "outputs_hidden": true
    },
    "scrolled": true
   },
   "outputs": [
    {
     "name": "stdout",
     "output_type": "stream",
     "text": [
      "78\n"
     ]
    }
   ],
   "source": [
    "print(78)"
   ]
  },
  {
   "cell_type": "code",
   "execution_count": 61,
   "id": "d0934b37-8d6c-43cb-823d-2771938829c5",
   "metadata": {},
   "outputs": [
    {
     "name": "stdout",
     "output_type": "stream",
     "text": [
      "Spoorthi Nagareddy 24\n"
     ]
    }
   ],
   "source": [
    "#Better way instead of concatenation as we don't need to typecast or give space separately\n",
    "fname=\"Spoorthi\"\n",
    "lname=\"Nagareddy\"\n",
    "age=24\n",
    "print(fname,lname,age)"
   ]
  },
  {
   "cell_type": "markdown",
   "id": "ba3fd305-8222-4c86-8061-7336db0c10b4",
   "metadata": {},
   "source": [
    "##1.2 **Variables** in Python are used to store data values.Variables are assigned values using the assignment operator (=).\n",
    "\n",
    "**conditions:**\n",
    "1.Variable names must start with a letter or an underscore (_).\n",
    "2.They cannot start with a number.\n",
    "3.Variable names can only contain alphanumeric characters and underscores (A-z, 0-9, and _).\n",
    "4.They are case-sensitive (e.g., age, Age, and AGE are different variables).\n",
    "5.They cannot be any of Python's reserved keywords (e.g., if, for, while, class, etc.). \n"
   ]
  },
  {
   "cell_type": "code",
   "execution_count": 38,
   "id": "cd59df7a-05d9-4148-a018-8bfc5fc0ec5f",
   "metadata": {},
   "outputs": [
    {
     "name": "stdout",
     "output_type": "stream",
     "text": [
      "5\n",
      "spoorthi\n"
     ]
    }
   ],
   "source": [
    "#assigning a variable and printing it\n",
    "x = 5\n",
    "y = \"spoorthi\"\n",
    "print(x)\n",
    "print(y)"
   ]
  },
  {
   "cell_type": "markdown",
   "id": "632013fc-f9cc-48fc-9c56-a43c479203e9",
   "metadata": {},
   "source": [
    "**type()**- gets the type of variable"
   ]
  },
  {
   "cell_type": "code",
   "execution_count": 73,
   "id": "acf7177b-9c47-4608-a06c-42e40614e167",
   "metadata": {},
   "outputs": [
    {
     "name": "stdout",
     "output_type": "stream",
     "text": [
      "<class 'str'>\n",
      "<class 'str'>\n",
      "<class 'int'>\n",
      "<class 'float'>\n",
      "<class 'bool'>\n"
     ]
    }
   ],
   "source": [
    "name=\"Spoorthi\"\n",
    "year_of_birth=\"2000\"\n",
    "age=24\n",
    "marks=99.9\n",
    "student=True\n",
    "print(type(name))\n",
    "print(type(year_of_birth))\n",
    "print(type(age))\n",
    "print(type(marks))\n",
    "print(type(student))"
   ]
  },
  {
   "cell_type": "markdown",
   "id": "dc91b6c4-ab85-4875-8744-737d3c150217",
   "metadata": {},
   "source": [
    "#Chapter 2- Strings \n",
    "  \n",
    "  Strings in python are surrounded by either single quotation marks, or double quotation marks."
   ]
  },
  {
   "cell_type": "code",
   "execution_count": 39,
   "id": "92486a86-e85e-4579-8287-0de89f3d25db",
   "metadata": {},
   "outputs": [
    {
     "name": "stdout",
     "output_type": "stream",
     "text": [
      "Hello\n",
      "Hello\n"
     ]
    }
   ],
   "source": [
    "print(\"Hello\")\n",
    "print('Hello')"
   ]
  },
  {
   "cell_type": "markdown",
   "id": "f4c60a9b-321b-41dd-b528-e8c4ad14f210",
   "metadata": {},
   "source": [
    "**len()**- checks length of characters in a string"
   ]
  },
  {
   "cell_type": "code",
   "execution_count": 49,
   "id": "e05c0031-c7b5-4215-b0a4-3544c562fb99",
   "metadata": {},
   "outputs": [
    {
     "data": {
      "text/plain": [
       "8"
      ]
     },
     "execution_count": 49,
     "metadata": {},
     "output_type": "execute_result"
    }
   ],
   "source": [
    "name=\"Spoorthi\"\n",
    "len(name)"
   ]
  },
  {
   "cell_type": "markdown",
   "id": "c7983514-7e6a-4d68-8572-e350fecac0e5",
   "metadata": {},
   "source": [
    "**Concatenation**- joins two strings when '+' is used"
   ]
  },
  {
   "cell_type": "code",
   "execution_count": 51,
   "id": "f661a85b-9cd8-4bb9-bcd4-52b89ec19fbe",
   "metadata": {},
   "outputs": [
    {
     "name": "stdout",
     "output_type": "stream",
     "text": [
      "Spoorthi Nagareddy\n"
     ]
    }
   ],
   "source": [
    "first_name=\"Spoorthi\"\n",
    "last_name=\"Nagareddy\"\n",
    "full_name=print(first_name+\" \"+last_name)"
   ]
  },
  {
   "cell_type": "markdown",
   "id": "0667a928-d6db-4179-84f5-d082f31a5770",
   "metadata": {},
   "source": [
    "**capitalise()** = Capitalises the first letter of the string"
   ]
  },
  {
   "cell_type": "code",
   "execution_count": 82,
   "id": "63f13792-07ce-4737-9a67-2fc265738dcc",
   "metadata": {},
   "outputs": [
    {
     "data": {
      "text/plain": [
       "'Spoorthi nagareddy'"
      ]
     },
     "execution_count": 82,
     "metadata": {},
     "output_type": "execute_result"
    }
   ],
   "source": [
    "name=\"spoorthi nagareddy\"\n",
    "name.capitalize()"
   ]
  },
  {
   "cell_type": "markdown",
   "id": "42efce26-2483-407f-916c-27dbc5005501",
   "metadata": {},
   "source": [
    "**casefold()** = Converts the string to all lower case¶"
   ]
  },
  {
   "cell_type": "code",
   "execution_count": 36,
   "id": "3f900d10-8724-4f27-afa5-0890ce2a423b",
   "metadata": {},
   "outputs": [
    {
     "data": {
      "text/plain": [
       "\"i'm spoorthi and i live in syracuse\""
      ]
     },
     "execution_count": 36,
     "metadata": {},
     "output_type": "execute_result"
    }
   ],
   "source": [
    "about_me=\"I'm SpooRtHI AnD I lIve in SyRaCuse\"\n",
    "about_me.casefold()"
   ]
  },
  {
   "cell_type": "markdown",
   "id": "8daa070c-4af4-4433-a2ec-b46eedcbd8e2",
   "metadata": {},
   "source": [
    "**center()** = length of string should be 50 and centered"
   ]
  },
  {
   "cell_type": "code",
   "execution_count": 94,
   "id": "4161948a-6751-4361-be4e-3e7a538dbed4",
   "metadata": {},
   "outputs": [
    {
     "data": {
      "text/plain": [
       "\"        I'm SpooRtHI AnD I'm from bAnGloRe        \""
      ]
     },
     "execution_count": 94,
     "metadata": {},
     "output_type": "execute_result"
    }
   ],
   "source": [
    "about_me.center(50)"
   ]
  },
  {
   "cell_type": "code",
   "execution_count": 96,
   "id": "818d84e2-197c-4057-b35a-a3e4919f711b",
   "metadata": {},
   "outputs": [
    {
     "data": {
      "text/plain": [
       "\"########I'm SpooRtHI AnD I'm from bAnGloRe########\""
      ]
     },
     "execution_count": 96,
     "metadata": {},
     "output_type": "execute_result"
    }
   ],
   "source": [
    "about_me.center(50,'#')"
   ]
  },
  {
   "cell_type": "markdown",
   "id": "ca3dac21-2114-40cf-918a-bfa1587438e5",
   "metadata": {},
   "source": [
    "**count()** = Return the number of times the given substring repeats, count(substring,start,end of string)"
   ]
  },
  {
   "cell_type": "code",
   "execution_count": 34,
   "id": "21875348-73e0-4041-89a9-6d58068b06d7",
   "metadata": {},
   "outputs": [
    {
     "data": {
      "text/plain": [
       "3"
      ]
     },
     "execution_count": 34,
     "metadata": {},
     "output_type": "execute_result"
    }
   ],
   "source": [
    "string_0= \"it's snowing, wear your snow jacket!\"\n",
    "substring='s'\n",
    "string_0.count(substring, 1 ,50 )"
   ]
  },
  {
   "cell_type": "markdown",
   "id": "df929b76-ee0a-44a6-9c2c-000418259cc0",
   "metadata": {},
   "source": [
    "**encode()** = Encode the string using the codec registered for encoding."
   ]
  },
  {
   "cell_type": "code",
   "execution_count": 61,
   "id": "3ad9d567-7bc5-4361-b7b9-2cd5ba10d6a2",
   "metadata": {},
   "outputs": [
    {
     "data": {
      "text/plain": [
       "b'sp\\xc3\\xb6orth\\xc3\\xad'"
      ]
     },
     "execution_count": 61,
     "metadata": {},
     "output_type": "execute_result"
    }
   ],
   "source": [
    "string_1=\"spöorthí\"\n",
    "string_1.encode()"
   ]
  },
  {
   "cell_type": "code",
   "execution_count": 63,
   "id": "9ae02ee8-83d7-490a-b06a-1638a07375cc",
   "metadata": {},
   "outputs": [
    {
     "data": {
      "text/plain": [
       "b'sporth'"
      ]
     },
     "execution_count": 63,
     "metadata": {},
     "output_type": "execute_result"
    }
   ],
   "source": [
    "string_1.encode(\"ascii\",\"ignore\")"
   ]
  },
  {
   "cell_type": "code",
   "execution_count": 65,
   "id": "8d248008-d446-4653-8177-06de890d62f0",
   "metadata": {},
   "outputs": [
    {
     "data": {
      "text/plain": [
       "b'sp?orth?'"
      ]
     },
     "execution_count": 65,
     "metadata": {},
     "output_type": "execute_result"
    }
   ],
   "source": [
    "string_1.encode(\"ascii\",\"replace\")"
   ]
  },
  {
   "cell_type": "markdown",
   "id": "d442b829-f83e-43a7-b722-64e74ac6cab2",
   "metadata": {},
   "source": [
    "**endswith()** = Return True if the string ends with the specified suffix, False otherwise."
   ]
  },
  {
   "cell_type": "code",
   "execution_count": 28,
   "id": "580b95d6-6f14-4cfd-935b-9cad452fbe72",
   "metadata": {},
   "outputs": [
    {
     "data": {
      "text/plain": [
       "True"
      ]
     },
     "execution_count": 28,
     "metadata": {},
     "output_type": "execute_result"
    }
   ],
   "source": [
    "name = \"Spoorthi Nagareddy\"\n",
    "name.endswith(\"Nagareddy\")"
   ]
  },
  {
   "cell_type": "markdown",
   "id": "18667d76-a149-4267-8c51-b0f3d7701d70",
   "metadata": {},
   "source": [
    "**expandtabs()** = Return a copy where all tab characters are expanded using spaces"
   ]
  },
  {
   "cell_type": "code",
   "execution_count": 26,
   "id": "4d1edadb-99a6-42f4-b1a9-b58cf4c93c84",
   "metadata": {},
   "outputs": [
    {
     "name": "stdout",
     "output_type": "stream",
     "text": [
      "M\tS\tRamaiah\tCollege\tof\tEngineering\n"
     ]
    },
    {
     "data": {
      "text/plain": [
       "'M S Ramaiah College of  Engineering'"
      ]
     },
     "execution_count": 26,
     "metadata": {},
     "output_type": "execute_result"
    }
   ],
   "source": [
    "college= \"M\\tS\\tRamaiah\\tCollege\\tof\\tEngineering\"\n",
    "print(college)\n",
    "college.expandtabs(2)"
   ]
  },
  {
   "cell_type": "markdown",
   "id": "5b52d925-544b-4ae9-965c-e2a1c939caa3",
   "metadata": {},
   "source": [
    "**find()** =Return the lowest index in string where substring is found.\n"
   ]
  },
  {
   "cell_type": "code",
   "execution_count": 67,
   "id": "5c5ed51d-0553-4c7c-b602-a3d1f41522f8",
   "metadata": {},
   "outputs": [
    {
     "data": {
      "text/plain": [
       "2"
      ]
     },
     "execution_count": 67,
     "metadata": {},
     "output_type": "execute_result"
    }
   ],
   "source": [
    "string_2= \"i am a master's student\"\n",
    "string_2.find('a')"
   ]
  },
  {
   "cell_type": "markdown",
   "id": "64806b33-3064-4bbb-bd1d-e1a8b09ae23d",
   "metadata": {},
   "source": [
    " **format()** = Returns the values to the curly brackets"
   ]
  },
  {
   "cell_type": "code",
   "execution_count": 55,
   "id": "f6b22693-df72-41b8-8fd1-f84e7ae402ee",
   "metadata": {},
   "outputs": [
    {
     "name": "stdout",
     "output_type": "stream",
     "text": [
      " My name is Spoorthi and i'm from India\n"
     ]
    }
   ],
   "source": [
    "print(\" My name is {} and i'm from {}\".format('Spoorthi','India'))"
   ]
  },
  {
   "cell_type": "markdown",
   "id": "fe302457-e20d-4744-aa9f-a6a3dd917283",
   "metadata": {},
   "source": [
    " **index()** = Return the lowest index in string where substring is found"
   ]
  },
  {
   "cell_type": "code",
   "execution_count": 69,
   "id": "e47f76da-0a16-444c-97b8-9af88461563c",
   "metadata": {},
   "outputs": [
    {
     "data": {
      "text/plain": [
       "7"
      ]
     },
     "execution_count": 69,
     "metadata": {},
     "output_type": "execute_result"
    }
   ],
   "source": [
    "string_3=\"I have Data Science lecture today\"\n",
    "string_3.index('Data')"
   ]
  },
  {
   "cell_type": "markdown",
   "id": "02b8f654-574a-410f-81a3-36b772050c11",
   "metadata": {},
   "source": [
    "**isalnum()** = Return True if the string is an alpha-numeric string, False otherwise."
   ]
  },
  {
   "cell_type": "code",
   "execution_count": 71,
   "id": "b042bbd6-ea71-42bf-a6c9-c119e9744030",
   "metadata": {},
   "outputs": [
    {
     "data": {
      "text/plain": [
       "True"
      ]
     },
     "execution_count": 71,
     "metadata": {},
     "output_type": "execute_result"
    }
   ],
   "source": [
    "name=\"Spoorthi\"\n",
    "name.isalnum()"
   ]
  },
  {
   "cell_type": "markdown",
   "id": "02327aaa-d45f-4f00-9527-5dfeecdfb98e",
   "metadata": {},
   "source": [
    "**isalpha()** = Return True if the string is an alphabetic string, False otherwise."
   ]
  },
  {
   "cell_type": "code",
   "execution_count": 78,
   "id": "05b1c310-a03b-47c6-ae30-9ea047ff3f64",
   "metadata": {},
   "outputs": [
    {
     "data": {
      "text/plain": [
       "False"
      ]
     },
     "execution_count": 78,
     "metadata": {},
     "output_type": "execute_result"
    }
   ],
   "source": [
    "job_role=\"Data Scientist\"\n",
    "job_role.isalpha()"
   ]
  },
  {
   "cell_type": "markdown",
   "id": "560e8c34-617f-4c02-ba3d-675552e09f91",
   "metadata": {},
   "source": [
    "**isdecimal()** = Return True if the string is an decimal string, False otherwise."
   ]
  },
  {
   "cell_type": "code",
   "execution_count": 83,
   "id": "5e4b1e86-8e9c-4dd7-a16d-d665469e5d54",
   "metadata": {},
   "outputs": [
    {
     "data": {
      "text/plain": [
       "True"
      ]
     },
     "execution_count": 83,
     "metadata": {},
     "output_type": "execute_result"
    }
   ],
   "source": [
    "string_4=\"9768576\"\n",
    "string_4.isdecimal()"
   ]
  },
  {
   "cell_type": "markdown",
   "id": "d2b13d64-5659-4d25-9bfe-6f94c7595d89",
   "metadata": {},
   "source": [
    "**isascii()** = Return True if all characters in the string are ASCII, False otherwise."
   ]
  },
  {
   "cell_type": "code",
   "execution_count": 86,
   "id": "eb400e76-0888-44a2-b66f-8ab1604355df",
   "metadata": {},
   "outputs": [
    {
     "data": {
      "text/plain": [
       "True"
      ]
     },
     "execution_count": 86,
     "metadata": {},
     "output_type": "execute_result"
    }
   ],
   "source": [
    "string_5=\"spoorthi nagareddy\"\n",
    "string_5.isascii()"
   ]
  },
  {
   "cell_type": "markdown",
   "id": "27d4afd2-5799-4afd-8de3-638d94c0edb9",
   "metadata": {},
   "source": [
    " **isdigit()** =Return True if the string is a digit string, False otherwise."
   ]
  },
  {
   "cell_type": "code",
   "execution_count": 91,
   "id": "ebc8e1f0-d113-4278-a89c-fc14f4d9dc8f",
   "metadata": {},
   "outputs": [
    {
     "data": {
      "text/plain": [
       "True"
      ]
     },
     "execution_count": 91,
     "metadata": {},
     "output_type": "execute_result"
    }
   ],
   "source": [
    "string_6=\"1224\"\n",
    "string_6.isdigit()"
   ]
  },
  {
   "cell_type": "markdown",
   "id": "6253649c-3648-490c-af5c-23d75bfc7036",
   "metadata": {},
   "source": [
    " **isidentifier()** =Return True if the string is a valid Python identifier, False otherwise.\n",
    " "
   ]
  },
  {
   "cell_type": "code",
   "execution_count": 96,
   "id": "780c07d7-8f6f-4f74-8b94-fb05c1e1b1e2",
   "metadata": {},
   "outputs": [
    {
     "data": {
      "text/plain": [
       "True"
      ]
     },
     "execution_count": 96,
     "metadata": {},
     "output_type": "execute_result"
    }
   ],
   "source": [
    "my_variable=\"Spoorthi\"\n",
    "my_variable.isidentifier()"
   ]
  },
  {
   "cell_type": "markdown",
   "id": "eb37760d-e971-4a8e-aead-eba342803742",
   "metadata": {},
   "source": [
    "**islower()** = Return True if the string is a lowercase string, False otherwise."
   ]
  },
  {
   "cell_type": "code",
   "execution_count": 99,
   "id": "4c8a8172-7826-443f-8f00-6b43b0cb1f8f",
   "metadata": {},
   "outputs": [
    {
     "data": {
      "text/plain": [
       "True"
      ]
     },
     "execution_count": 99,
     "metadata": {},
     "output_type": "execute_result"
    }
   ],
   "source": [
    "string_7=\"good morning\"\n",
    "string_7.islower()"
   ]
  },
  {
   "cell_type": "markdown",
   "id": "b578659d-56bb-4900-9ac2-596a700fa63c",
   "metadata": {},
   "source": [
    "**isnumeric()** = Return True if the string is a numeric string, False otherwise."
   ]
  },
  {
   "cell_type": "code",
   "execution_count": 101,
   "id": "7b368f49-acaf-429c-86f5-c16cc82898ff",
   "metadata": {},
   "outputs": [
    {
     "data": {
      "text/plain": [
       "False"
      ]
     },
     "execution_count": 101,
     "metadata": {},
     "output_type": "execute_result"
    }
   ],
   "source": [
    "string_8='345.3456'\n",
    "string_8.isnumeric()"
   ]
  },
  {
   "cell_type": "markdown",
   "id": "bb7d9b19-5023-4b9e-af90-c93699538218",
   "metadata": {},
   "source": [
    "**isprintable()** = Return True if the string is printable, False otherwise."
   ]
  },
  {
   "cell_type": "code",
   "execution_count": 132,
   "id": "bb8fb0c4-b14f-44c5-91dc-aae2b43b6490",
   "metadata": {},
   "outputs": [
    {
     "data": {
      "text/plain": [
       "False"
      ]
     },
     "execution_count": 132,
     "metadata": {},
     "output_type": "execute_result"
    }
   ],
   "source": [
    "string_9 = \"Hello\\nworld!\"\n",
    "string_9.isprintable() "
   ]
  },
  {
   "cell_type": "markdown",
   "id": "81e67042-75d0-4d83-97b5-a3b3bc8e7d13",
   "metadata": {},
   "source": [
    "**isspace()** = Return True if the string is a whitespace string, False otherwise."
   ]
  },
  {
   "cell_type": "code",
   "execution_count": 137,
   "id": "1d946254-696c-46b8-bda3-05e527bcd2bc",
   "metadata": {},
   "outputs": [
    {
     "data": {
      "text/plain": [
       "True"
      ]
     },
     "execution_count": 137,
     "metadata": {},
     "output_type": "execute_result"
    }
   ],
   "source": [
    "string_10='      '\n",
    "string_10.isspace()"
   ]
  },
  {
   "cell_type": "markdown",
   "id": "b1b3871d-d5d9-4647-823c-20a74bfa030d",
   "metadata": {},
   "source": [
    " **istitle()** = Return True if the string is a title-cased string, False otherwise."
   ]
  },
  {
   "cell_type": "code",
   "execution_count": 142,
   "id": "7fa10bd1-c738-4a7b-ab3a-765e8596a74b",
   "metadata": {},
   "outputs": [
    {
     "data": {
      "text/plain": [
       "True"
      ]
     },
     "execution_count": 142,
     "metadata": {},
     "output_type": "execute_result"
    }
   ],
   "source": [
    "string1 = \"This Is A Title Cased String\"\n",
    "string1.istitle()"
   ]
  },
  {
   "cell_type": "markdown",
   "id": "10aacc0b-7118-4507-a49d-650f57d7c608",
   "metadata": {},
   "source": [
    "**isupper()** = Return True if the string is an uppercase string, False otherwise."
   ]
  },
  {
   "cell_type": "code",
   "execution_count": 147,
   "id": "b91dab15-4f02-463e-b72b-dc34eada00ed",
   "metadata": {},
   "outputs": [
    {
     "data": {
      "text/plain": [
       "True"
      ]
     },
     "execution_count": 147,
     "metadata": {},
     "output_type": "execute_result"
    }
   ],
   "source": [
    "string2=\"GOOD MORNING\"\n",
    "string2.isupper()"
   ]
  },
  {
   "cell_type": "markdown",
   "id": "0fd8331a-a45e-47ce-a37b-5d424e39b5fa",
   "metadata": {},
   "source": [
    "**join()** = Returns a string by joining all the elements of an iterable (list, string, tuple), separated by a string separator.¶"
   ]
  },
  {
   "cell_type": "code",
   "execution_count": 152,
   "id": "a1522f2c-8ee0-46af-9ff2-5b1809da34d7",
   "metadata": {},
   "outputs": [
    {
     "name": "stdout",
     "output_type": "stream",
     "text": [
      "vinay , spoorthi , vijay , vishal\n"
     ]
    }
   ],
   "source": [
    "my_list=['vinay','spoorthi','vijay','vishal']\n",
    "print(\" , \".join(my_list))"
   ]
  },
  {
   "cell_type": "markdown",
   "id": "93c5c7c0-c685-4f97-a066-db86585ae1b6",
   "metadata": {},
   "source": [
    "**ljust()** = Returns a left-justified string of a given minimum width."
   ]
  },
  {
   "cell_type": "code",
   "execution_count": 161,
   "id": "9c32c005-0eca-4ba0-99a6-1580df40c9f3",
   "metadata": {},
   "outputs": [
    {
     "data": {
      "text/plain": [
       "'hi welcome!!!!!'"
      ]
     },
     "execution_count": 161,
     "metadata": {},
     "output_type": "execute_result"
    }
   ],
   "source": [
    "string3=\"hi welcome\"\n",
    "string3.ljust(15,'!')"
   ]
  },
  {
   "cell_type": "markdown",
   "id": "46f33a59-b18c-4263-9674-472305e77815",
   "metadata": {},
   "source": [
    "**rjust()** = returns a right-justified string of a given minimum width."
   ]
  },
  {
   "cell_type": "code",
   "execution_count": 164,
   "id": "e60faa0c-de9b-4cda-ba54-942fb627ee31",
   "metadata": {},
   "outputs": [
    {
     "data": {
      "text/plain": [
       "'#####hi welcome'"
      ]
     },
     "execution_count": 164,
     "metadata": {},
     "output_type": "execute_result"
    }
   ],
   "source": [
    "string4=\"hi welcome\"\n",
    "string4.rjust(15,'#')"
   ]
  },
  {
   "cell_type": "markdown",
   "id": "4419ffb1-517c-46da-bb69-afd0e39f83e4",
   "metadata": {},
   "source": [
    "**lower()** = Converts the string to lower case"
   ]
  },
  {
   "cell_type": "code",
   "execution_count": 168,
   "id": "480d7d0e-29ab-40c8-bdd1-0707a1c049cf",
   "metadata": {},
   "outputs": [
    {
     "data": {
      "text/plain": [
       "'syracuse univerity'"
      ]
     },
     "execution_count": 168,
     "metadata": {},
     "output_type": "execute_result"
    }
   ],
   "source": [
    "string5='SYracUse Univerity'\n",
    "string5.lower()"
   ]
  },
  {
   "cell_type": "markdown",
   "id": "95a8f202-97ef-4665-b3e2-d3299fdbcda2",
   "metadata": {},
   "source": [
    " **lstrip()** = Return a copy of the string with leading whitespace removed"
   ]
  },
  {
   "cell_type": "code",
   "execution_count": 171,
   "id": "b355f2b9-fd0b-485d-9cfb-5609302a61f7",
   "metadata": {},
   "outputs": [
    {
     "data": {
      "text/plain": [
       "'hi,all'"
      ]
     },
     "execution_count": 171,
     "metadata": {},
     "output_type": "execute_result"
    }
   ],
   "source": [
    "string6='      hi,all'\n",
    "string6.lstrip()"
   ]
  },
  {
   "cell_type": "markdown",
   "id": "ccba279b-8d97-4782-84f7-0b5d543f3a52",
   "metadata": {},
   "source": [
    "partition() = Partition the string into three parts using the given separator."
   ]
  },
  {
   "cell_type": "code",
   "execution_count": 174,
   "id": "5811971a-f93d-41aa-b04f-f385b0c29e56",
   "metadata": {},
   "outputs": [
    {
     "data": {
      "text/plain": [
       "('justific', 'a', 'tion')"
      ]
     },
     "execution_count": 174,
     "metadata": {},
     "output_type": "execute_result"
    }
   ],
   "source": [
    "string7='justification'\n",
    "string7.partition('a')"
   ]
  },
  {
   "cell_type": "markdown",
   "id": "0bace0de-6238-48c0-9b4c-8580791b19ee",
   "metadata": {},
   "source": [
    "**replace()** = Return a copy with all occurrences of substring old replaced by new."
   ]
  },
  {
   "cell_type": "code",
   "execution_count": 177,
   "id": "1f5da567-a61b-4e53-8d88-4ddaf2dd80c5",
   "metadata": {},
   "outputs": [
    {
     "data": {
      "text/plain": [
       "'he is a teacher'"
      ]
     },
     "execution_count": 177,
     "metadata": {},
     "output_type": "execute_result"
    }
   ],
   "source": [
    "string8=\"he is a student\"\n",
    "string8.replace(\"student\",\"teacher\")"
   ]
  },
  {
   "cell_type": "markdown",
   "id": "b49bfa20-e16a-4541-9d95-fe40386c28be",
   "metadata": {},
   "source": [
    "**rfind()** = Return the highest index in S where substring sub is found."
   ]
  },
  {
   "cell_type": "code",
   "execution_count": 181,
   "id": "2cd4d986-de03-4bbd-b3a0-80f2e585406b",
   "metadata": {},
   "outputs": [
    {
     "data": {
      "text/plain": [
       "2"
      ]
     },
     "execution_count": 181,
     "metadata": {},
     "output_type": "execute_result"
    }
   ],
   "source": [
    "string9='elephant'\n",
    "string9.rfind('e')"
   ]
  },
  {
   "cell_type": "markdown",
   "id": "89b7953c-fce5-4d71-91ef-133e215bf2a9",
   "metadata": {},
   "source": [
    "**rindex()** = Return the highest index in S where substring sub is found"
   ]
  },
  {
   "cell_type": "code",
   "execution_count": 185,
   "id": "fd83d931-90b0-4981-a3a7-4ec7d15b1ce6",
   "metadata": {},
   "outputs": [
    {
     "data": {
      "text/plain": [
       "2"
      ]
     },
     "execution_count": 185,
     "metadata": {},
     "output_type": "execute_result"
    }
   ],
   "source": [
    "string9='elephant'\n",
    "string9.rindex('e')"
   ]
  },
  {
   "cell_type": "markdown",
   "id": "d8ee0548-ec04-48f6-8b4a-9d3ae0c87b1a",
   "metadata": {},
   "source": [
    "**rpartition()** = Partition the string into three parts using the given separator."
   ]
  },
  {
   "cell_type": "code",
   "execution_count": 190,
   "id": "8c6cccf2-20f9-40ce-808f-4818a2f0dc29",
   "metadata": {},
   "outputs": [
    {
     "data": {
      "text/plain": [
       "('i love ', 'ice', ' cream')"
      ]
     },
     "execution_count": 190,
     "metadata": {},
     "output_type": "execute_result"
    }
   ],
   "source": [
    "string10=('i love ice cream')\n",
    "string10.rpartition('ice')"
   ]
  },
  {
   "cell_type": "markdown",
   "id": "d6672719-2976-4ae7-bc71-7f0a82ff7ba8",
   "metadata": {},
   "source": [
    "**rstrip()** = Return a copy of the string with trailing whitespace removed."
   ]
  },
  {
   "cell_type": "code",
   "execution_count": 194,
   "id": "d659ebf1-1666-4989-9f1c-d50129d19e70",
   "metadata": {},
   "outputs": [
    {
     "data": {
      "text/plain": [
       "'hi,all'"
      ]
     },
     "execution_count": 194,
     "metadata": {},
     "output_type": "execute_result"
    }
   ],
   "source": [
    "string11='hi,all         '\n",
    "string11.rstrip()"
   ]
  },
  {
   "cell_type": "markdown",
   "id": "839ec9a5-70e3-4df7-9a8e-c0c6553ae270",
   "metadata": {},
   "source": [
    "**rsplit()** = seperates the string wherever the given seperator is located."
   ]
  },
  {
   "cell_type": "code",
   "execution_count": 199,
   "id": "d8312031-7251-494b-a1d9-df555fb4da68",
   "metadata": {},
   "outputs": [
    {
     "name": "stdout",
     "output_type": "stream",
     "text": [
      "['apple,banana', 'cherry', 'date']\n"
     ]
    }
   ],
   "source": [
    "text = \"apple,banana,cherry,date\"\n",
    "result = text.rsplit(\",\", 2)\n",
    "print(result)"
   ]
  },
  {
   "cell_type": "markdown",
   "id": "0d77a420-1406-47c5-9142-0bf616f45f21",
   "metadata": {},
   "source": [
    " **splitlines()** = Return a list of the lines in the string, breaking at line boundaries."
   ]
  },
  {
   "cell_type": "code",
   "execution_count": 202,
   "id": "201543e4-3fc1-405f-b6d6-e38cee88efb0",
   "metadata": {},
   "outputs": [
    {
     "data": {
      "text/plain": [
       "['deep', ' learning', ' is a subset', ' of', ' data science']"
      ]
     },
     "execution_count": 202,
     "metadata": {},
     "output_type": "execute_result"
    }
   ],
   "source": [
    "string='deep\\n learning\\n is a subset\\n of\\n data science'\n",
    "string.splitlines()"
   ]
  },
  {
   "cell_type": "markdown",
   "id": "05718632-12e9-4742-99b6-cd565f032e2f",
   "metadata": {},
   "source": [
    "**startswith()** =Return True if the string starts with the specified prefix, False otherwise."
   ]
  },
  {
   "cell_type": "code",
   "execution_count": 205,
   "id": "3e815c80-e26d-4ab0-9a7b-616afc0e5808",
   "metadata": {},
   "outputs": [
    {
     "data": {
      "text/plain": [
       "True"
      ]
     },
     "execution_count": 205,
     "metadata": {},
     "output_type": "execute_result"
    }
   ],
   "source": [
    "string12=\"laptop\"\n",
    "string12.startswith('lap')"
   ]
  },
  {
   "cell_type": "markdown",
   "id": "66ab2a1c-dac2-45a1-8f0e-434627503eb4",
   "metadata": {},
   "source": [
    "**swapcase()** = Convert uppercase characters to lowercase and lowercase characters to uppercase."
   ]
  },
  {
   "cell_type": "code",
   "execution_count": 210,
   "id": "388fa185-c791-4cea-ab6f-97c3d3996aca",
   "metadata": {},
   "outputs": [
    {
     "data": {
      "text/plain": [
       "'I AM FEELING HAPPY'"
      ]
     },
     "execution_count": 210,
     "metadata": {},
     "output_type": "execute_result"
    }
   ],
   "source": [
    "string13=\"i am feeling happy\"\n",
    "string13.swapcase()"
   ]
  },
  {
   "cell_type": "markdown",
   "id": "2b7d4a53-3233-409b-8dfa-987c3cab9e69",
   "metadata": {},
   "source": [
    "**strip()** = Return a copy of the string with leading and trailing whitespace removed."
   ]
  },
  {
   "cell_type": "code",
   "execution_count": 213,
   "id": "1f4a1bc7-bceb-450a-a833-209c7ec3106d",
   "metadata": {},
   "outputs": [
    {
     "data": {
      "text/plain": [
       "'hi,  everyone!'"
      ]
     },
     "execution_count": 213,
     "metadata": {},
     "output_type": "execute_result"
    }
   ],
   "source": [
    "string14=\"    hi,  everyone!     \"\n",
    "string14.strip()"
   ]
  },
  {
   "cell_type": "markdown",
   "id": "a8caf0cc-bae6-41f4-8c1f-5c808920eb25",
   "metadata": {},
   "source": [
    "**title()** = Return a version of the string where each word is titlecased."
   ]
  },
  {
   "cell_type": "code",
   "execution_count": 220,
   "id": "b4af2e77-d221-490d-9950-16055d86d827",
   "metadata": {},
   "outputs": [
    {
     "data": {
      "text/plain": [
       "'Project- Solar Energy Consumption Analysis'"
      ]
     },
     "execution_count": 220,
     "metadata": {},
     "output_type": "execute_result"
    }
   ],
   "source": [
    "string15=\"project- solar energy consumption analysis\"\n",
    "string15.title()"
   ]
  }
 ],
 "metadata": {
  "kernelspec": {
   "display_name": "Python [conda env:base] *",
   "language": "python",
   "name": "conda-base-py"
  },
  "language_info": {
   "codemirror_mode": {
    "name": "ipython",
    "version": 3
   },
   "file_extension": ".py",
   "mimetype": "text/x-python",
   "name": "python",
   "nbconvert_exporter": "python",
   "pygments_lexer": "ipython3",
   "version": "3.12.7"
  }
 },
 "nbformat": 4,
 "nbformat_minor": 5
}
