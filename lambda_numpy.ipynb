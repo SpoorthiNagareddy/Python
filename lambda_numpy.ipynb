{
 "cells": [
  {
   "cell_type": "markdown",
   "id": "fd87bfc1-b121-4eb6-adae-ee489c62d6bf",
   "metadata": {},
   "source": [
    "**Lambda Functions**\n",
    "\n",
    "syntax\n",
    "\n",
    "name of function =lambda x:\n",
    "\n",
    "(everything must be in same line)\n"
   ]
  },
  {
   "cell_type": "code",
   "execution_count": 12,
   "id": "68889940-6633-4c86-a6cf-6d362099db87",
   "metadata": {},
   "outputs": [],
   "source": [
    "#multiplication\n",
    "func = lambda x: x*x"
   ]
  },
  {
   "cell_type": "code",
   "execution_count": 14,
   "id": "c05eb245-5c88-4b05-8e55-5c61464cab18",
   "metadata": {},
   "outputs": [
    {
     "data": {
      "text/plain": [
       "25"
      ]
     },
     "execution_count": 14,
     "metadata": {},
     "output_type": "execute_result"
    }
   ],
   "source": [
    "#call the function to get output\n",
    "fun(5)"
   ]
  },
  {
   "cell_type": "code",
   "execution_count": 16,
   "id": "1ba4ee45-8600-47b0-acf2-1c5bf7bf76e6",
   "metadata": {},
   "outputs": [],
   "source": [
    "#two take two inputs for multiplication\n",
    "func1 = lambda x,y: x*y"
   ]
  },
  {
   "cell_type": "code",
   "execution_count": 20,
   "id": "ae23df91-9f43-4df2-8a5b-61c9caeb4d9e",
   "metadata": {},
   "outputs": [
    {
     "data": {
      "text/plain": [
       "18"
      ]
     },
     "execution_count": 20,
     "metadata": {},
     "output_type": "execute_result"
    }
   ],
   "source": [
    "func1(3,6)"
   ]
  },
  {
   "cell_type": "code",
   "execution_count": 24,
   "id": "d7027667-0e35-4a09-b675-19aea289ebc9",
   "metadata": {},
   "outputs": [],
   "source": [
    "#to check if number is even or odd\n",
    "func2 = lambda x: 'even' if x%2==0 else 'odd'"
   ]
  },
  {
   "cell_type": "code",
   "execution_count": 28,
   "id": "6c997666-7cd4-4339-b68e-66d62ef89d76",
   "metadata": {},
   "outputs": [
    {
     "data": {
      "text/plain": [
       "'odd'"
      ]
     },
     "execution_count": 28,
     "metadata": {},
     "output_type": "execute_result"
    }
   ],
   "source": [
    "func2(5)"
   ]
  },
  {
   "cell_type": "code",
   "execution_count": 30,
   "id": "8aac45de-5353-47ff-9be3-2df6b1cc04e0",
   "metadata": {},
   "outputs": [],
   "source": [
    "#to check even and odd numbers in a list\n",
    "list1 =[1,2,3,4,5,6,7,8]\n",
    "func3=lambda x: ['even' if x%2==0 else 'odd' for x in list1]"
   ]
  },
  {
   "cell_type": "code",
   "execution_count": 34,
   "id": "29d16e11-1daf-49af-a7fe-0e2c57faf95b",
   "metadata": {},
   "outputs": [
    {
     "data": {
      "text/plain": [
       "['odd', 'even', 'odd', 'even', 'odd', 'even', 'odd', 'even']"
      ]
     },
     "execution_count": 34,
     "metadata": {},
     "output_type": "execute_result"
    }
   ],
   "source": [
    "func3(list1)"
   ]
  },
  {
   "cell_type": "markdown",
   "id": "3ea0f0a4-7613-4c19-aaea-b62a479ce9c6",
   "metadata": {},
   "source": [
    "**filter**"
   ]
  },
  {
   "cell_type": "code",
   "execution_count": 47,
   "id": "6abf4c51-8a36-4f13-8774-cf3680bba787",
   "metadata": {},
   "outputs": [
    {
     "data": {
      "text/plain": [
       "[45, 56, 67]"
      ]
     },
     "execution_count": 47,
     "metadata": {},
     "output_type": "execute_result"
    }
   ],
   "source": [
    "#to find numbers greater than 10 in a list using functions\n",
    "list2 =[1,45,7,3,56,3,67]\n",
    "def large (x):\n",
    "    if x>10:\n",
    "        return x\n",
    "list(filter(large,list2))"
   ]
  },
  {
   "cell_type": "code",
   "execution_count": 53,
   "id": "08f68b99-c5f4-4f23-90a4-0487f2b507e8",
   "metadata": {},
   "outputs": [
    {
     "data": {
      "text/plain": [
       "[45, 56, 67]"
      ]
     },
     "execution_count": 53,
     "metadata": {},
     "output_type": "execute_result"
    }
   ],
   "source": [
    "##to find numbers greater than 10 in a list using lambda functions\n",
    "list(filter(lambda x:x>10,list2))"
   ]
  },
  {
   "cell_type": "markdown",
   "id": "b7091a8f-c182-4bc5-a734-bee1a7557f0b",
   "metadata": {},
   "source": [
    "**Numpy- Numerical Python**\n",
    "\n",
    "NumPy is usually imported under the np alias.\n",
    "\n",
    "NumPy is a Python library used for working with arrays. Used to perform multiple mathematical functions.\n",
    "\n",
    "**Array**- An array is a special variable, which can hold more than one value at a time."
   ]
  },
  {
   "cell_type": "code",
   "execution_count": 58,
   "id": "2684fc9f-c8af-4fcd-ae77-70f0e1a99a18",
   "metadata": {},
   "outputs": [],
   "source": [
    "#for importing numpy library\n",
    "import numpy as np"
   ]
  },
  {
   "cell_type": "markdown",
   "id": "9a774997-3d31-42c4-ba57-d1558f60c4f8",
   "metadata": {},
   "source": [
    "An array is a special variable, which can hold more than one value at a time"
   ]
  },
  {
   "cell_type": "markdown",
   "id": "e47dbb3e-bd48-41ef-800b-c0b18f9d32e0",
   "metadata": {},
   "source": [
    "**One-dimensional array**"
   ]
  },
  {
   "cell_type": "code",
   "execution_count": 63,
   "id": "cdf5df22-6539-4af9-907e-c96071729406",
   "metadata": {},
   "outputs": [
    {
     "data": {
      "text/plain": [
       "array([1, 2, 3, 4, 5])"
      ]
     },
     "execution_count": 63,
     "metadata": {},
     "output_type": "execute_result"
    }
   ],
   "source": [
    "#1D array\n",
    "one_dim = np.array([1, 2, 3, 4, 5])\n",
    "one_dim"
   ]
  },
  {
   "cell_type": "code",
   "execution_count": 65,
   "id": "8986d43b-440a-4594-ab86-094e391bd2af",
   "metadata": {},
   "outputs": [
    {
     "data": {
      "text/plain": [
       "5"
      ]
     },
     "execution_count": 65,
     "metadata": {},
     "output_type": "execute_result"
    }
   ],
   "source": [
    "#size\n",
    "one_dim.size"
   ]
  },
  {
   "cell_type": "code",
   "execution_count": 67,
   "id": "ee4ed478-d9bb-4305-9f0a-611f3c692a8c",
   "metadata": {},
   "outputs": [
    {
     "data": {
      "text/plain": [
       "1"
      ]
     },
     "execution_count": 67,
     "metadata": {},
     "output_type": "execute_result"
    }
   ],
   "source": [
    "#to check dimension\n",
    "one_dim.ndim"
   ]
  },
  {
   "cell_type": "code",
   "execution_count": 69,
   "id": "db1e2830-116d-402e-9420-a6f8ea8e937b",
   "metadata": {},
   "outputs": [
    {
     "data": {
      "text/plain": [
       "4"
      ]
     },
     "execution_count": 69,
     "metadata": {},
     "output_type": "execute_result"
    }
   ],
   "source": [
    "#to access an element\n",
    "one_dim[3]"
   ]
  },
  {
   "cell_type": "code",
   "execution_count": 85,
   "id": "bc0e9018-3f09-4826-bc58-398e5b6bf709",
   "metadata": {},
   "outputs": [
    {
     "data": {
      "text/plain": [
       "array([ 1,  2,  3, 52,  5])"
      ]
     },
     "execution_count": 85,
     "metadata": {},
     "output_type": "execute_result"
    }
   ],
   "source": [
    "#to add an element\n",
    "one_dim[3]=52\n",
    "one_dim"
   ]
  },
  {
   "cell_type": "code",
   "execution_count": 87,
   "id": "6d3a6863-8632-41fb-bd51-f3fc149764c3",
   "metadata": {},
   "outputs": [
    {
     "data": {
      "text/plain": [
       "array([1, 2, 3, 5])"
      ]
     },
     "execution_count": 87,
     "metadata": {},
     "output_type": "execute_result"
    }
   ],
   "source": [
    "#to delete an element\n",
    "new=np.delete(one_dim,3)\n",
    "new"
   ]
  },
  {
   "cell_type": "code",
   "execution_count": 81,
   "id": "553024c2-9a16-436d-abfa-554014a9a661",
   "metadata": {},
   "outputs": [
    {
     "data": {
      "text/plain": [
       "52"
      ]
     },
     "execution_count": 81,
     "metadata": {},
     "output_type": "execute_result"
    }
   ],
   "source": [
    "#to find maximum value\n",
    "np.max(one_dim)"
   ]
  },
  {
   "cell_type": "code",
   "execution_count": 91,
   "id": "3f6c7f31-8b9d-43ca-b93a-cfc4c7a4ecfd",
   "metadata": {},
   "outputs": [
    {
     "data": {
      "text/plain": [
       "1"
      ]
     },
     "execution_count": 91,
     "metadata": {},
     "output_type": "execute_result"
    }
   ],
   "source": [
    "#to find minimum value\n",
    "np.min(one_dim)"
   ]
  },
  {
   "cell_type": "code",
   "execution_count": 93,
   "id": "db2203ed-11c7-4322-afb7-943bd6a5d0dd",
   "metadata": {},
   "outputs": [
    {
     "data": {
      "text/plain": [
       "12.6"
      ]
     },
     "execution_count": 93,
     "metadata": {},
     "output_type": "execute_result"
    }
   ],
   "source": [
    "#to find mean\n",
    "np.mean(one_dim)"
   ]
  },
  {
   "cell_type": "code",
   "execution_count": 95,
   "id": "e17b9b54-9143-4067-bf42-7ff62cf26473",
   "metadata": {},
   "outputs": [
    {
     "data": {
      "text/plain": [
       "3.0"
      ]
     },
     "execution_count": 95,
     "metadata": {},
     "output_type": "execute_result"
    }
   ],
   "source": [
    "#to find median\n",
    "np.median(one_dim)"
   ]
  },
  {
   "cell_type": "code",
   "execution_count": 97,
   "id": "655a8fbe-13ec-4738-b71e-43cd14bc6e68",
   "metadata": {},
   "outputs": [
    {
     "data": {
      "text/plain": [
       "array([ 1,  2,  3,  5, 52])"
      ]
     },
     "execution_count": 97,
     "metadata": {},
     "output_type": "execute_result"
    }
   ],
   "source": [
    "#to get only unique values by ignoring duplicates\n",
    "np.unique(one_dim)"
   ]
  },
  {
   "cell_type": "code",
   "execution_count": 99,
   "id": "21c74a1d-bdcb-4c12-85a6-24459472f386",
   "metadata": {},
   "outputs": [
    {
     "data": {
      "text/plain": [
       "3"
      ]
     },
     "execution_count": 99,
     "metadata": {},
     "output_type": "execute_result"
    }
   ],
   "source": [
    "#to get index of the greatest number in array\n",
    "np.argmax(one_dim)"
   ]
  },
  {
   "cell_type": "code",
   "execution_count": 101,
   "id": "80a75e40-3a86-47ab-a38c-f82ac1092f6d",
   "metadata": {},
   "outputs": [
    {
     "data": {
      "text/plain": [
       "1"
      ]
     },
     "execution_count": 101,
     "metadata": {},
     "output_type": "execute_result"
    }
   ],
   "source": [
    "#to get index of the greatest number in array\n",
    "np.min(one_dim)"
   ]
  },
  {
   "cell_type": "markdown",
   "id": "fefd59c6-760b-4c48-b4fd-285ae92d6e45",
   "metadata": {},
   "source": [
    "**two-dimensional array**"
   ]
  },
  {
   "cell_type": "code",
   "execution_count": 106,
   "id": "00067774-8ec5-4928-afa4-72bddfd5a420",
   "metadata": {},
   "outputs": [
    {
     "data": {
      "text/plain": [
       "array([[1, 2, 3],\n",
       "       [4, 5, 6],\n",
       "       [7, 8, 9]])"
      ]
     },
     "execution_count": 106,
     "metadata": {},
     "output_type": "execute_result"
    }
   ],
   "source": [
    "#2D array\n",
    "two_dim=np.array([[1,2,3],[4,5,6],[7,8,9]])\n",
    "two_dim"
   ]
  },
  {
   "cell_type": "code",
   "execution_count": 108,
   "id": "a1ce6477-39e5-4af7-911c-3aa5443dffe8",
   "metadata": {},
   "outputs": [
    {
     "data": {
      "text/plain": [
       "2"
      ]
     },
     "execution_count": 108,
     "metadata": {},
     "output_type": "execute_result"
    }
   ],
   "source": [
    "#to check dimension\n",
    "two_dim.ndim"
   ]
  },
  {
   "cell_type": "code",
   "execution_count": 110,
   "id": "bdcd3235-2a7b-4e46-924b-a71383d892da",
   "metadata": {},
   "outputs": [
    {
     "data": {
      "text/plain": [
       "(3, 3)"
      ]
     },
     "execution_count": 110,
     "metadata": {},
     "output_type": "execute_result"
    }
   ],
   "source": [
    "#to know the numbers of rows and columns\n",
    "two_dim.shape"
   ]
  },
  {
   "cell_type": "code",
   "execution_count": 112,
   "id": "a7c88d9b-08d5-450b-9e21-39c7582c29a9",
   "metadata": {},
   "outputs": [
    {
     "data": {
      "text/plain": [
       "9"
      ]
     },
     "execution_count": 112,
     "metadata": {},
     "output_type": "execute_result"
    }
   ],
   "source": [
    "#to know the number of elements\n",
    "two_dim.size"
   ]
  },
  {
   "cell_type": "code",
   "execution_count": 116,
   "id": "5435849a-5188-4de4-afe5-b8f69e53d8a7",
   "metadata": {},
   "outputs": [
    {
     "data": {
      "text/plain": [
       "6"
      ]
     },
     "execution_count": 116,
     "metadata": {},
     "output_type": "execute_result"
    }
   ],
   "source": [
    "#to access 6th element\n",
    "two_dim[1,2]"
   ]
  },
  {
   "cell_type": "code",
   "execution_count": 120,
   "id": "ccc13776-14ad-4c87-9846-e84af82a1089",
   "metadata": {},
   "outputs": [
    {
     "data": {
      "text/plain": [
       "array([1, 2, 3])"
      ]
     },
     "execution_count": 120,
     "metadata": {},
     "output_type": "execute_result"
    }
   ],
   "source": [
    "#to access first row\n",
    "two_dim[0]"
   ]
  },
  {
   "cell_type": "code",
   "execution_count": 122,
   "id": "71e97b97-7608-451d-bf01-2db31b7985a2",
   "metadata": {},
   "outputs": [
    {
     "data": {
      "text/plain": [
       "array([[1, 2, 3],\n",
       "       [4, 5, 6]])"
      ]
     },
     "execution_count": 122,
     "metadata": {},
     "output_type": "execute_result"
    }
   ],
   "source": [
    "#to access first and second row\n",
    "two_dim[0:2]"
   ]
  },
  {
   "cell_type": "code",
   "execution_count": 124,
   "id": "9b2c5fa6-bcf7-4b1a-9cda-fc06bf1e4fa1",
   "metadata": {},
   "outputs": [
    {
     "data": {
      "text/plain": [
       "array([1, 4, 7])"
      ]
     },
     "execution_count": 124,
     "metadata": {},
     "output_type": "execute_result"
    }
   ],
   "source": [
    "#to access first column\n",
    "two_dim[ : ,0]"
   ]
  },
  {
   "cell_type": "code",
   "execution_count": 126,
   "id": "8c6a049c-50bf-4337-9eb8-f74a3f5b8b87",
   "metadata": {},
   "outputs": [
    {
     "data": {
      "text/plain": [
       "array([[1, 3],\n",
       "       [4, 6],\n",
       "       [7, 9]])"
      ]
     },
     "execution_count": 126,
     "metadata": {},
     "output_type": "execute_result"
    }
   ],
   "source": [
    "#to access first two columns\n",
    "two_dim[ : ,[0,2]]"
   ]
  },
  {
   "cell_type": "code",
   "execution_count": 130,
   "id": "035de1a3-5110-4ab1-94f6-f321f865078f",
   "metadata": {},
   "outputs": [
    {
     "data": {
      "text/plain": [
       "array([[ 1,  2,  3],\n",
       "       [ 4,  5,  6],\n",
       "       [30, 40, 50]])"
      ]
     },
     "execution_count": 130,
     "metadata": {},
     "output_type": "execute_result"
    }
   ],
   "source": [
    "#to change 3rd row\n",
    "two_dim[2]=[30,40,50]\n",
    "two_dim"
   ]
  },
  {
   "cell_type": "code",
   "execution_count": 136,
   "id": "6aa2e61d-f9be-4a9b-aa9a-330fe9def1ed",
   "metadata": {},
   "outputs": [
    {
     "data": {
      "text/plain": [
       "array([[ 1, 22,  3],\n",
       "       [ 4, 33,  6],\n",
       "       [30, 44, 50]])"
      ]
     },
     "execution_count": 136,
     "metadata": {},
     "output_type": "execute_result"
    }
   ],
   "source": [
    "#to change 2nd column\n",
    "two_dim[:,1]=[22,33,44]\n",
    "two_dim"
   ]
  },
  {
   "cell_type": "code",
   "execution_count": null,
   "id": "163e773e-f6dd-4fa8-a324-938a5b497919",
   "metadata": {},
   "outputs": [],
   "source": []
  }
 ],
 "metadata": {
  "kernelspec": {
   "display_name": "Python [conda env:base] *",
   "language": "python",
   "name": "conda-base-py"
  },
  "language_info": {
   "codemirror_mode": {
    "name": "ipython",
    "version": 3
   },
   "file_extension": ".py",
   "mimetype": "text/x-python",
   "name": "python",
   "nbconvert_exporter": "python",
   "pygments_lexer": "ipython3",
   "version": "3.12.7"
  }
 },
 "nbformat": 4,
 "nbformat_minor": 5
}
