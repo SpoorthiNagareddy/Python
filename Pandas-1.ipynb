{
 "cells": [
  {
   "cell_type": "markdown",
   "id": "4a1a4098-60ef-409d-9015-caefd3b31b84",
   "metadata": {},
   "source": [
    "# Pandas\n",
    "\n",
    "The Pandas library is used for data manipulation and analysis.\n",
    "\n",
    "Pandas consist of data structures and functions to perform efficient operations on data.\n",
    "\n",
    "Pandas is well-suited for working with tabular data, such as spreadsheets or SQL tables."
   ]
  },
  {
   "cell_type": "markdown",
   "id": "e31e2a43-4dea-4a96-a489-10b2794ab0a9",
   "metadata": {},
   "source": [
    "1) Series- 1D data it has just one column with other column being the index\n",
    "   \n",
    "2) Dataframe- 2D data it has multiple columns"
   ]
  },
  {
   "cell_type": "markdown",
   "id": "c372c58a-21f2-4cf0-9f99-fb4214eeec1e",
   "metadata": {},
   "source": [
    "### First step is to import pandas"
   ]
  },
  {
   "cell_type": "code",
   "execution_count": 7,
   "id": "a813c1ef-1987-469b-a98a-b25df70199c8",
   "metadata": {},
   "outputs": [],
   "source": [
    "import pandas as pd"
   ]
  },
  {
   "cell_type": "markdown",
   "id": "691cba0c-cf1c-407f-907e-101380be99b2",
   "metadata": {},
   "source": [
    "## Series"
   ]
  },
  {
   "cell_type": "code",
   "execution_count": 12,
   "id": "4a12b62a-7ad3-4702-bf82-aa327e5d7ca3",
   "metadata": {},
   "outputs": [
    {
     "data": {
      "text/plain": [
       "0     98\n",
       "1    100\n",
       "2     45\n",
       "3     24\n",
       "dtype: int64"
      ]
     },
     "execution_count": 12,
     "metadata": {},
     "output_type": "execute_result"
    }
   ],
   "source": [
    "#creating a series\n",
    "ser1=pd.Series(data=[98,100,45,24])\n",
    "ser1"
   ]
  },
  {
   "cell_type": "code",
   "execution_count": 14,
   "id": "7a05f77b-1de2-4a3e-bc38-8f87364ce20c",
   "metadata": {},
   "outputs": [
    {
     "data": {
      "text/plain": [
       "Spoorthi     98\n",
       "Tiya        100\n",
       "Annie        45\n",
       "Marie        24\n",
       "dtype: int64"
      ]
     },
     "execution_count": 14,
     "metadata": {},
     "output_type": "execute_result"
    }
   ],
   "source": [
    "#Alloting index as names instead of leaving it blank\n",
    "ser2=pd.Series(data=[98,100,45,24],index=['Spoorthi','Tiya','Annie','Marie'])\n",
    "ser2"
   ]
  },
  {
   "cell_type": "code",
   "execution_count": 16,
   "id": "7d284c26-1a4a-4b4e-b601-10351c56d96a",
   "metadata": {},
   "outputs": [
    {
     "data": {
      "text/plain": [
       "pandas.core.series.Series"
      ]
     },
     "execution_count": 16,
     "metadata": {},
     "output_type": "execute_result"
    }
   ],
   "source": [
    "#to check what we created \n",
    "type(ser1)"
   ]
  },
  {
   "cell_type": "code",
   "execution_count": 18,
   "id": "9313385d-ddba-4812-b44a-8843bc64adc4",
   "metadata": {},
   "outputs": [
    {
     "data": {
      "text/plain": [
       "1"
      ]
     },
     "execution_count": 18,
     "metadata": {},
     "output_type": "execute_result"
    }
   ],
   "source": [
    "#to check dimension\n",
    "ser1.ndim"
   ]
  },
  {
   "cell_type": "code",
   "execution_count": 20,
   "id": "9ee1a968-8831-4c50-b044-18014d2eb697",
   "metadata": {},
   "outputs": [
    {
     "data": {
      "text/plain": [
       "4"
      ]
     },
     "execution_count": 20,
     "metadata": {},
     "output_type": "execute_result"
    }
   ],
   "source": [
    "#to check size\n",
    "ser1.size"
   ]
  },
  {
   "cell_type": "code",
   "execution_count": 22,
   "id": "63d742aa-3af4-403c-ad83-9325bf0eeb40",
   "metadata": {},
   "outputs": [
    {
     "data": {
      "text/plain": [
       "98"
      ]
     },
     "execution_count": 22,
     "metadata": {},
     "output_type": "execute_result"
    }
   ],
   "source": [
    "#to access an element \n",
    "ser2['Spoorthi']"
   ]
  },
  {
   "cell_type": "code",
   "execution_count": 24,
   "id": "e623b29f-b3c9-4b04-bd92-68805b699bcc",
   "metadata": {},
   "outputs": [
    {
     "data": {
      "text/plain": [
       "Spoorthi     98\n",
       "Tiya        100\n",
       "Annie        45\n",
       "dtype: int64"
      ]
     },
     "execution_count": 24,
     "metadata": {},
     "output_type": "execute_result"
    }
   ],
   "source": [
    "#to access first 3 elements\n",
    "ser2['Spoorthi':'Annie']"
   ]
  },
  {
   "cell_type": "code",
   "execution_count": 28,
   "id": "19fc3694-2f80-4de7-90ec-2c6c64af535c",
   "metadata": {},
   "outputs": [
    {
     "data": {
      "text/plain": [
       "Spoorthi    98\n",
       "Marie       24\n",
       "dtype: int64"
      ]
     },
     "execution_count": 28,
     "metadata": {},
     "output_type": "execute_result"
    }
   ],
   "source": [
    "#to access just Spoorthi and Marie\n",
    "ser2[['Spoorthi','Marie']]"
   ]
  },
  {
   "cell_type": "code",
   "execution_count": 32,
   "id": "0981409c-fbe6-4078-9a16-18e5e6da0bc6",
   "metadata": {},
   "outputs": [
    {
     "data": {
      "text/plain": [
       "100"
      ]
     },
     "execution_count": 32,
     "metadata": {},
     "output_type": "execute_result"
    }
   ],
   "source": [
    "#maximum \n",
    "ser2.max()"
   ]
  },
  {
   "cell_type": "code",
   "execution_count": 34,
   "id": "07027fdf-8580-4247-b1c7-ccfa747a5efc",
   "metadata": {},
   "outputs": [
    {
     "data": {
      "text/plain": [
       "66.75"
      ]
     },
     "execution_count": 34,
     "metadata": {},
     "output_type": "execute_result"
    }
   ],
   "source": [
    "#average\n",
    "ser2.mean()"
   ]
  },
  {
   "cell_type": "code",
   "execution_count": 36,
   "id": "5f91ae29-37c3-4acd-83cb-b11e7c8ed7a7",
   "metadata": {},
   "outputs": [
    {
     "data": {
      "text/plain": [
       "24"
      ]
     },
     "execution_count": 36,
     "metadata": {},
     "output_type": "execute_result"
    }
   ],
   "source": [
    "#minimum\n",
    "ser2.min()"
   ]
  },
  {
   "cell_type": "code",
   "execution_count": 38,
   "id": "3ebcd950-9185-4f10-a362-0a20bbfc36e4",
   "metadata": {},
   "outputs": [
    {
     "data": {
      "text/plain": [
       "71.5"
      ]
     },
     "execution_count": 38,
     "metadata": {},
     "output_type": "execute_result"
    }
   ],
   "source": [
    "#median\n",
    "ser2.median()"
   ]
  },
  {
   "cell_type": "code",
   "execution_count": 42,
   "id": "0ea6dc40-3371-4e3f-a42f-3f169f4e1fc9",
   "metadata": {},
   "outputs": [
    {
     "data": {
      "text/plain": [
       "Spoorthi     True\n",
       "Tiya         True\n",
       "Annie       False\n",
       "Marie       False\n",
       "dtype: bool"
      ]
     },
     "execution_count": 42,
     "metadata": {},
     "output_type": "execute_result"
    }
   ],
   "source": [
    "#to check numbers greater than 95, we get true if it is greater than 95 else false\n",
    "ser2>95"
   ]
  },
  {
   "cell_type": "markdown",
   "id": "a5e780a9-f88d-4aae-9aea-1028b8090ced",
   "metadata": {},
   "source": [
    "## Dataframe"
   ]
  },
  {
   "cell_type": "code",
   "execution_count": 98,
   "id": "6e5afab7-e5fc-4963-9164-2db6322d4638",
   "metadata": {},
   "outputs": [
    {
     "data": {
      "text/plain": [
       "{'Names': ['Spoorthi', 'Nagareddy', 'Annie', 'Marie'],\n",
       " 'Age': [24, 54, 25, 27],\n",
       " 'Gender': ['Female', 'Male', 'Female', 'Female'],\n",
       " 'Location': ['USA', 'India', 'Germany', 'Russia']}"
      ]
     },
     "execution_count": 98,
     "metadata": {},
     "output_type": "execute_result"
    }
   ],
   "source": [
    "#create a dictionary\n",
    "dic1={'Names':['Spoorthi','Nagareddy','Annie','Marie'],'Age':[24,54,25,27],'Gender':['Female','Male','Female','Female'],'Location':['USA','India','Germany','Russia']}\n",
    "dic1"
   ]
  },
  {
   "cell_type": "code",
   "execution_count": 96,
   "id": "9d69f0e1-774f-464c-ae1f-be1a5d0d9ea8",
   "metadata": {},
   "outputs": [
    {
     "data": {
      "text/html": [
       "<div>\n",
       "<style scoped>\n",
       "    .dataframe tbody tr th:only-of-type {\n",
       "        vertical-align: middle;\n",
       "    }\n",
       "\n",
       "    .dataframe tbody tr th {\n",
       "        vertical-align: top;\n",
       "    }\n",
       "\n",
       "    .dataframe thead th {\n",
       "        text-align: right;\n",
       "    }\n",
       "</style>\n",
       "<table border=\"1\" class=\"dataframe\">\n",
       "  <thead>\n",
       "    <tr style=\"text-align: right;\">\n",
       "      <th></th>\n",
       "      <th>Names</th>\n",
       "      <th>Age</th>\n",
       "      <th>Gender</th>\n",
       "      <th>Location</th>\n",
       "    </tr>\n",
       "  </thead>\n",
       "  <tbody>\n",
       "    <tr>\n",
       "      <th>0</th>\n",
       "      <td>Spoorthi</td>\n",
       "      <td>24</td>\n",
       "      <td>Female</td>\n",
       "      <td>USA</td>\n",
       "    </tr>\n",
       "    <tr>\n",
       "      <th>1</th>\n",
       "      <td>Nagareddy</td>\n",
       "      <td>54</td>\n",
       "      <td>Male</td>\n",
       "      <td>India</td>\n",
       "    </tr>\n",
       "    <tr>\n",
       "      <th>2</th>\n",
       "      <td>Annie</td>\n",
       "      <td>25</td>\n",
       "      <td>Female</td>\n",
       "      <td>Germany</td>\n",
       "    </tr>\n",
       "    <tr>\n",
       "      <th>3</th>\n",
       "      <td>Marie</td>\n",
       "      <td>27</td>\n",
       "      <td>Female</td>\n",
       "      <td>Russia</td>\n",
       "    </tr>\n",
       "  </tbody>\n",
       "</table>\n",
       "</div>"
      ],
      "text/plain": [
       "       Names  Age  Gender Location\n",
       "0   Spoorthi   24  Female      USA\n",
       "1  Nagareddy   54    Male    India\n",
       "2      Annie   25  Female  Germany\n",
       "3      Marie   27  Female   Russia"
      ]
     },
     "execution_count": 96,
     "metadata": {},
     "output_type": "execute_result"
    }
   ],
   "source": [
    "#to create a dataframe\n",
    "df=pd.DataFrame(dic1)\n",
    "df"
   ]
  },
  {
   "cell_type": "code",
   "execution_count": 100,
   "id": "c6ed5629-4247-4dc3-9e43-44317c0c075a",
   "metadata": {},
   "outputs": [
    {
     "data": {
      "text/html": [
       "<div>\n",
       "<style scoped>\n",
       "    .dataframe tbody tr th:only-of-type {\n",
       "        vertical-align: middle;\n",
       "    }\n",
       "\n",
       "    .dataframe tbody tr th {\n",
       "        vertical-align: top;\n",
       "    }\n",
       "\n",
       "    .dataframe thead th {\n",
       "        text-align: right;\n",
       "    }\n",
       "</style>\n",
       "<table border=\"1\" class=\"dataframe\">\n",
       "  <thead>\n",
       "    <tr style=\"text-align: right;\">\n",
       "      <th></th>\n",
       "      <th>Names</th>\n",
       "      <th>Age</th>\n",
       "      <th>Gender</th>\n",
       "      <th>Location</th>\n",
       "    </tr>\n",
       "  </thead>\n",
       "  <tbody>\n",
       "    <tr>\n",
       "      <th>1</th>\n",
       "      <td>Spoorthi</td>\n",
       "      <td>24</td>\n",
       "      <td>Female</td>\n",
       "      <td>USA</td>\n",
       "    </tr>\n",
       "    <tr>\n",
       "      <th>2</th>\n",
       "      <td>Nagareddy</td>\n",
       "      <td>54</td>\n",
       "      <td>Male</td>\n",
       "      <td>India</td>\n",
       "    </tr>\n",
       "    <tr>\n",
       "      <th>3</th>\n",
       "      <td>Annie</td>\n",
       "      <td>25</td>\n",
       "      <td>Female</td>\n",
       "      <td>Germany</td>\n",
       "    </tr>\n",
       "    <tr>\n",
       "      <th>4</th>\n",
       "      <td>Marie</td>\n",
       "      <td>27</td>\n",
       "      <td>Female</td>\n",
       "      <td>Russia</td>\n",
       "    </tr>\n",
       "  </tbody>\n",
       "</table>\n",
       "</div>"
      ],
      "text/plain": [
       "       Names  Age  Gender Location\n",
       "1   Spoorthi   24  Female      USA\n",
       "2  Nagareddy   54    Male    India\n",
       "3      Annie   25  Female  Germany\n",
       "4      Marie   27  Female   Russia"
      ]
     },
     "execution_count": 100,
     "metadata": {},
     "output_type": "execute_result"
    }
   ],
   "source": [
    "#to change the index from 0-3 to 1-4\n",
    "df1=pd.DataFrame(dic1,index=range(1,5))\n",
    "df1"
   ]
  },
  {
   "cell_type": "code",
   "execution_count": 102,
   "id": "d9f06e70-9b55-49a4-8500-fccecf913d96",
   "metadata": {},
   "outputs": [
    {
     "data": {
      "text/plain": [
       "(4, 4)"
      ]
     },
     "execution_count": 102,
     "metadata": {},
     "output_type": "execute_result"
    }
   ],
   "source": [
    "#to check number of rows and column\n",
    "df.shape"
   ]
  },
  {
   "cell_type": "code",
   "execution_count": 104,
   "id": "d1cfa85d-533c-4525-bf4d-463c262fdd19",
   "metadata": {},
   "outputs": [
    {
     "data": {
      "text/plain": [
       "2"
      ]
     },
     "execution_count": 104,
     "metadata": {},
     "output_type": "execute_result"
    }
   ],
   "source": [
    "#to check dimension\n",
    "df.ndim"
   ]
  },
  {
   "cell_type": "code",
   "execution_count": 106,
   "id": "8c9bbe88-c556-4fb1-a037-642c81efd37c",
   "metadata": {},
   "outputs": [
    {
     "data": {
      "text/plain": [
       "16"
      ]
     },
     "execution_count": 106,
     "metadata": {},
     "output_type": "execute_result"
    }
   ],
   "source": [
    "#to check size\n",
    "df.size"
   ]
  },
  {
   "cell_type": "code",
   "execution_count": 108,
   "id": "27e03b8f-cf39-4d05-a0ad-c175e90e7814",
   "metadata": {},
   "outputs": [
    {
     "data": {
      "text/plain": [
       "Index(['Names', 'Age', 'Gender', 'Location'], dtype='object')"
      ]
     },
     "execution_count": 108,
     "metadata": {},
     "output_type": "execute_result"
    }
   ],
   "source": [
    "#to get column names\n",
    "df.columns"
   ]
  },
  {
   "cell_type": "code",
   "execution_count": 110,
   "id": "ecfc4588-36cf-47c9-b8be-ec522575602c",
   "metadata": {},
   "outputs": [
    {
     "data": {
      "text/html": [
       "<div>\n",
       "<style scoped>\n",
       "    .dataframe tbody tr th:only-of-type {\n",
       "        vertical-align: middle;\n",
       "    }\n",
       "\n",
       "    .dataframe tbody tr th {\n",
       "        vertical-align: top;\n",
       "    }\n",
       "\n",
       "    .dataframe thead th {\n",
       "        text-align: right;\n",
       "    }\n",
       "</style>\n",
       "<table border=\"1\" class=\"dataframe\">\n",
       "  <thead>\n",
       "    <tr style=\"text-align: right;\">\n",
       "      <th></th>\n",
       "      <th>Names</th>\n",
       "      <th>Age</th>\n",
       "      <th>Gender</th>\n",
       "      <th>Location</th>\n",
       "    </tr>\n",
       "  </thead>\n",
       "  <tbody>\n",
       "    <tr>\n",
       "      <th>0</th>\n",
       "      <td>Spoorthi</td>\n",
       "      <td>24</td>\n",
       "      <td>Female</td>\n",
       "      <td>USA</td>\n",
       "    </tr>\n",
       "    <tr>\n",
       "      <th>2</th>\n",
       "      <td>Annie</td>\n",
       "      <td>25</td>\n",
       "      <td>Female</td>\n",
       "      <td>Germany</td>\n",
       "    </tr>\n",
       "    <tr>\n",
       "      <th>3</th>\n",
       "      <td>Marie</td>\n",
       "      <td>27</td>\n",
       "      <td>Female</td>\n",
       "      <td>Russia</td>\n",
       "    </tr>\n",
       "    <tr>\n",
       "      <th>1</th>\n",
       "      <td>Nagareddy</td>\n",
       "      <td>54</td>\n",
       "      <td>Male</td>\n",
       "      <td>India</td>\n",
       "    </tr>\n",
       "  </tbody>\n",
       "</table>\n",
       "</div>"
      ],
      "text/plain": [
       "       Names  Age  Gender Location\n",
       "0   Spoorthi   24  Female      USA\n",
       "2      Annie   25  Female  Germany\n",
       "3      Marie   27  Female   Russia\n",
       "1  Nagareddy   54    Male    India"
      ]
     },
     "execution_count": 110,
     "metadata": {},
     "output_type": "execute_result"
    }
   ],
   "source": [
    "#sort age in ascending order\n",
    "df.sort_values('Age')"
   ]
  },
  {
   "cell_type": "code",
   "execution_count": 112,
   "id": "2430f955-4452-4611-b19f-95db6fd87da3",
   "metadata": {},
   "outputs": [
    {
     "data": {
      "text/html": [
       "<div>\n",
       "<style scoped>\n",
       "    .dataframe tbody tr th:only-of-type {\n",
       "        vertical-align: middle;\n",
       "    }\n",
       "\n",
       "    .dataframe tbody tr th {\n",
       "        vertical-align: top;\n",
       "    }\n",
       "\n",
       "    .dataframe thead th {\n",
       "        text-align: right;\n",
       "    }\n",
       "</style>\n",
       "<table border=\"1\" class=\"dataframe\">\n",
       "  <thead>\n",
       "    <tr style=\"text-align: right;\">\n",
       "      <th></th>\n",
       "      <th>Names</th>\n",
       "      <th>Age</th>\n",
       "      <th>Location</th>\n",
       "    </tr>\n",
       "  </thead>\n",
       "  <tbody>\n",
       "    <tr>\n",
       "      <th>0</th>\n",
       "      <td>Spoorthi</td>\n",
       "      <td>24</td>\n",
       "      <td>USA</td>\n",
       "    </tr>\n",
       "    <tr>\n",
       "      <th>1</th>\n",
       "      <td>Nagareddy</td>\n",
       "      <td>54</td>\n",
       "      <td>India</td>\n",
       "    </tr>\n",
       "    <tr>\n",
       "      <th>2</th>\n",
       "      <td>Annie</td>\n",
       "      <td>25</td>\n",
       "      <td>Germany</td>\n",
       "    </tr>\n",
       "    <tr>\n",
       "      <th>3</th>\n",
       "      <td>Marie</td>\n",
       "      <td>27</td>\n",
       "      <td>Russia</td>\n",
       "    </tr>\n",
       "  </tbody>\n",
       "</table>\n",
       "</div>"
      ],
      "text/plain": [
       "       Names  Age Location\n",
       "0   Spoorthi   24      USA\n",
       "1  Nagareddy   54    India\n",
       "2      Annie   25  Germany\n",
       "3      Marie   27   Russia"
      ]
     },
     "execution_count": 112,
     "metadata": {},
     "output_type": "execute_result"
    }
   ],
   "source": [
    "#to drop a column\n",
    "df.drop(columns='Gender')"
   ]
  },
  {
   "cell_type": "code",
   "execution_count": 114,
   "id": "5aa4e2d2-57fe-4ba9-a88b-b7e31a7bc975",
   "metadata": {},
   "outputs": [
    {
     "data": {
      "text/html": [
       "<div>\n",
       "<style scoped>\n",
       "    .dataframe tbody tr th:only-of-type {\n",
       "        vertical-align: middle;\n",
       "    }\n",
       "\n",
       "    .dataframe tbody tr th {\n",
       "        vertical-align: top;\n",
       "    }\n",
       "\n",
       "    .dataframe thead th {\n",
       "        text-align: right;\n",
       "    }\n",
       "</style>\n",
       "<table border=\"1\" class=\"dataframe\">\n",
       "  <thead>\n",
       "    <tr style=\"text-align: right;\">\n",
       "      <th></th>\n",
       "      <th>Names</th>\n",
       "      <th>Age</th>\n",
       "    </tr>\n",
       "  </thead>\n",
       "  <tbody>\n",
       "    <tr>\n",
       "      <th>0</th>\n",
       "      <td>Spoorthi</td>\n",
       "      <td>24</td>\n",
       "    </tr>\n",
       "    <tr>\n",
       "      <th>1</th>\n",
       "      <td>Nagareddy</td>\n",
       "      <td>54</td>\n",
       "    </tr>\n",
       "    <tr>\n",
       "      <th>2</th>\n",
       "      <td>Annie</td>\n",
       "      <td>25</td>\n",
       "    </tr>\n",
       "    <tr>\n",
       "      <th>3</th>\n",
       "      <td>Marie</td>\n",
       "      <td>27</td>\n",
       "    </tr>\n",
       "  </tbody>\n",
       "</table>\n",
       "</div>"
      ],
      "text/plain": [
       "       Names  Age\n",
       "0   Spoorthi   24\n",
       "1  Nagareddy   54\n",
       "2      Annie   25\n",
       "3      Marie   27"
      ]
     },
     "execution_count": 114,
     "metadata": {},
     "output_type": "execute_result"
    }
   ],
   "source": [
    "#to drop 2 columns\n",
    "df.drop(columns=['Gender','Location'])"
   ]
  },
  {
   "cell_type": "code",
   "execution_count": 116,
   "id": "e54ac7e5-8731-4e6e-882b-9398e7035644",
   "metadata": {},
   "outputs": [],
   "source": [
    "#to drop columns permanently\n",
    "df.drop(columns=['Gender','Location'],inplace=True)"
   ]
  },
  {
   "cell_type": "code",
   "execution_count": 118,
   "id": "128a3178-90b0-4f85-9720-d7d1739b644a",
   "metadata": {},
   "outputs": [
    {
     "data": {
      "text/html": [
       "<div>\n",
       "<style scoped>\n",
       "    .dataframe tbody tr th:only-of-type {\n",
       "        vertical-align: middle;\n",
       "    }\n",
       "\n",
       "    .dataframe tbody tr th {\n",
       "        vertical-align: top;\n",
       "    }\n",
       "\n",
       "    .dataframe thead th {\n",
       "        text-align: right;\n",
       "    }\n",
       "</style>\n",
       "<table border=\"1\" class=\"dataframe\">\n",
       "  <thead>\n",
       "    <tr style=\"text-align: right;\">\n",
       "      <th></th>\n",
       "      <th>Names</th>\n",
       "      <th>Age</th>\n",
       "    </tr>\n",
       "  </thead>\n",
       "  <tbody>\n",
       "    <tr>\n",
       "      <th>0</th>\n",
       "      <td>Spoorthi</td>\n",
       "      <td>24</td>\n",
       "    </tr>\n",
       "    <tr>\n",
       "      <th>1</th>\n",
       "      <td>Nagareddy</td>\n",
       "      <td>54</td>\n",
       "    </tr>\n",
       "    <tr>\n",
       "      <th>2</th>\n",
       "      <td>Annie</td>\n",
       "      <td>25</td>\n",
       "    </tr>\n",
       "    <tr>\n",
       "      <th>3</th>\n",
       "      <td>Marie</td>\n",
       "      <td>27</td>\n",
       "    </tr>\n",
       "  </tbody>\n",
       "</table>\n",
       "</div>"
      ],
      "text/plain": [
       "       Names  Age\n",
       "0   Spoorthi   24\n",
       "1  Nagareddy   54\n",
       "2      Annie   25\n",
       "3      Marie   27"
      ]
     },
     "execution_count": 118,
     "metadata": {},
     "output_type": "execute_result"
    }
   ],
   "source": [
    "df"
   ]
  }
 ],
 "metadata": {
  "kernelspec": {
   "display_name": "Python [conda env:base] *",
   "language": "python",
   "name": "conda-base-py"
  },
  "language_info": {
   "codemirror_mode": {
    "name": "ipython",
    "version": 3
   },
   "file_extension": ".py",
   "mimetype": "text/x-python",
   "name": "python",
   "nbconvert_exporter": "python",
   "pygments_lexer": "ipython3",
   "version": "3.12.7"
  }
 },
 "nbformat": 4,
 "nbformat_minor": 5
}
