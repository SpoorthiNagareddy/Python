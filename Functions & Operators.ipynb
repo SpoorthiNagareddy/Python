{
 "cells": [
  {
   "cell_type": "markdown",
   "id": "a580c64e-6321-4b55-9fd0-396c4b3c14e1",
   "metadata": {},
   "source": [
    "##Chapter-2 **Functions**"
   ]
  },
  {
   "cell_type": "markdown",
   "id": "293a24ed-9b36-46ab-92ce-19df96a02fb7",
   "metadata": {},
   "source": [
    "3 types of Functions:\n",
    "\n",
    "**Predefined Functions/Builtin functions** - which will get automatically installed into your local machine when we install anaconda navigator.\n",
    "\n",
    "**Userdefined functions** - user given functions, according to his own preferences - it is customizable function.\n",
    "\n",
    "**Anonymous functions** - it is a nameless function, which is used for accomplish one operation at once."
   ]
  },
  {
   "cell_type": "code",
   "execution_count": 3,
   "id": "3451eeb2-9e86-4764-8146-02578507c1a2",
   "metadata": {},
   "outputs": [
    {
     "name": "stdout",
     "output_type": "stream",
     "text": [
      "First Function!!\n",
      "Let's learn more\n"
     ]
    }
   ],
   "source": [
    "#Step1 : Define your Function- in Python a function is defined using the def keyword\n",
    "#Step2 : Call your function- to call a function, use the function name followed by parenthesis\n",
    "def get_details():\n",
    "    print(\"First Function!!\")\n",
    "    print(\"Let's learn more\")\n",
    "get_details()"
   ]
  },
  {
   "cell_type": "markdown",
   "id": "416d98ae-8467-4482-a0d4-e56b14217c9c",
   "metadata": {},
   "source": [
    "#Positional Arguments\n",
    "\n",
    "**Parameters** are the variables listed inside the parentheses in the function definition and are also known as place holders\n",
    "\n",
    "In this code, **name and age** are parameters of the function get_learner_details.\n",
    "\n",
    "**Arguments** are the actual values passed to the function when it is called.\n",
    "\n",
    "In this code, 'Spoorthi' and 24 are the arguments passed to the function get_learner_details"
   ]
  },
  {
   "cell_type": "code",
   "execution_count": 49,
   "id": "760b463f-4ae4-4031-a651-d0d6463c667b",
   "metadata": {},
   "outputs": [
    {
     "name": "stdout",
     "output_type": "stream",
     "text": [
      "Name: Spoorthi\n",
      "Age: 24\n"
     ]
    }
   ],
   "source": [
    "def get_learner_details(name,age): #Parameters\n",
    "    print(\"Name:\",name)\n",
    "    print(\"Age:\",age)\n",
    "get_learner_details('Spoorthi',24)#Arguments"
   ]
  },
  {
   "cell_type": "markdown",
   "id": "36b62ff4-bf7d-484d-8994-d34a32f6d6fa",
   "metadata": {},
   "source": [
    "#Default Arguement- suppose multipld employees are from same company \"Google\" we can already set the value and do not have to give the value everytime\n"
   ]
  },
  {
   "cell_type": "code",
   "execution_count": 47,
   "id": "b89c8ad9-4a8b-4162-bc43-8b66e230d71a",
   "metadata": {},
   "outputs": [
    {
     "name": "stdout",
     "output_type": "stream",
     "text": [
      "Name: Spoorthi\n",
      "Age: 24\n",
      "Workplace: Google\n"
     ]
    }
   ],
   "source": [
    "def get_learner_details2(name,age,company=\"Google\"):\n",
    "    print(\"Name:\",name)\n",
    "    print(\"Age:\",age)\n",
    "    print(\"Workplace:\",company)\n",
    "get_learner_details2('Spoorthi',24)"
   ]
  },
  {
   "cell_type": "markdown",
   "id": "34ef7c20-712c-4d31-aa9a-aba927167def",
   "metadata": {},
   "source": [
    "#Variable length argument- shouldn't be between other arguments, must be in last. "
   ]
  },
  {
   "cell_type": "code",
   "execution_count": 51,
   "id": "b90164d7-b828-4ea2-9d36-acd6141eb2af",
   "metadata": {},
   "outputs": [
    {
     "name": "stdout",
     "output_type": "stream",
     "text": [
      "Name: Spoorthi\n",
      "Age: 24\n",
      "Workplace: ('Google', 'IBM', 'Tesla')\n"
     ]
    }
   ],
   "source": [
    "def get_learner_details2(name,age,*company):\n",
    "    print(\"Name:\",name)\n",
    "    print(\"Age:\",age)\n",
    "    print(\"Workplace:\",company)\n",
    "get_learner_details2('Spoorthi',24,\"Google\",\"IBM\",\"Tesla\")"
   ]
  },
  {
   "cell_type": "markdown",
   "id": "050e3fcc-c562-4ec2-9ca7-0f3c97493db1",
   "metadata": {},
   "source": [
    "#Keyword Argument"
   ]
  },
  {
   "cell_type": "code",
   "execution_count": 53,
   "id": "144e225e-1d98-46da-9de9-d1c48cd045ae",
   "metadata": {},
   "outputs": [
    {
     "name": "stdout",
     "output_type": "stream",
     "text": [
      "Name     :  Spoorthi\n",
      "Age      :  22\n",
      "Workplace:  {'company_1': 'Google', 'company_2': 'IBM', 'company_3': 'Dell'}\n"
     ]
    }
   ],
   "source": [
    "def get_learner_details_4(name,age,**company): \n",
    "    print('Name     : ',name)\n",
    "    print('Age      : ',age)\n",
    "    print('Workplace: ',company)\n",
    "get_learner_details_4('Spoorthi',22,company_1 = 'Google',company_2 = 'IBM',company_3 = 'Dell')\n",
    "    "
   ]
  },
  {
   "cell_type": "markdown",
   "id": "5bb167d4-f336-4f32-ae32-82de03064abc",
   "metadata": {},
   "source": [
    "### Variable-length argument and Keyword Argument"
   ]
  },
  {
   "cell_type": "code",
   "execution_count": 56,
   "id": "73cbb528-69e1-43c5-80ce-f8f4e304876d",
   "metadata": {},
   "outputs": [
    {
     "name": "stdout",
     "output_type": "stream",
     "text": [
      "Name     :  ('Spoorthi', 'Vinay')\n",
      "Age      :  24\n",
      "Workplace:  {'company_1': 'Google', 'company_2': 'IBM', 'company_3': 'Dell'}\n"
     ]
    }
   ],
   "source": [
    "def get_learner_details_5(age,*name,**company): \n",
    "    print('Name     : ',name)\n",
    "    print('Age      : ',age)\n",
    "    print('Workplace: ',company)\n",
    "get_learner_details_5(24,'Spoorthi','Vinay',company_1 = 'Google',company_2 = 'IBM',company_3 = 'Dell')\n",
    "    "
   ]
  },
  {
   "cell_type": "markdown",
   "id": "781ceac1-60f2-4c49-949f-67e10dcea340",
   "metadata": {},
   "source": [
    "##Create a user defined function with for loop."
   ]
  },
  {
   "cell_type": "code",
   "execution_count": 6,
   "id": "dd667706-15af-46db-9ac7-ce3791cd5727",
   "metadata": {},
   "outputs": [
    {
     "name": "stdout",
     "output_type": "stream",
     "text": [
      "S\n",
      "p\n",
      "o\n",
      "o\n",
      "r\n",
      "t\n",
      "h\n",
      "i\n"
     ]
    },
    {
     "data": {
      "text/plain": [
       "'FUNCTION ENDED'"
      ]
     },
     "execution_count": 6,
     "metadata": {},
     "output_type": "execute_result"
    }
   ],
   "source": [
    "\"\"\"def print_chars(word):\n",
    "    for char in word:\n",
    "        print(char)\n",
    "\n",
    "# Call the function\n",
    "print_chars(\"Hello\")\"\"\"\n",
    "\n",
    "def get_name(name):\n",
    "    for i in name:\n",
    "        print(i)\n",
    "    return 'FUNCTION ENDED'\n",
    "\n",
    "get_name('Spoorthi')"
   ]
  },
  {
   "cell_type": "markdown",
   "id": "d3f70147-1d0c-485c-a4f9-796669ef90a1",
   "metadata": {},
   "source": [
    "**return** statement"
   ]
  },
  {
   "cell_type": "code",
   "execution_count": 11,
   "id": "ea67bec1-9370-42de-9ed4-b4a36f3e05a8",
   "metadata": {},
   "outputs": [
    {
     "name": "stdout",
     "output_type": "stream",
     "text": [
      "45\n",
      "67\n"
     ]
    },
    {
     "data": {
      "text/plain": [
       "112"
      ]
     },
     "execution_count": 11,
     "metadata": {},
     "output_type": "execute_result"
    }
   ],
   "source": [
    "def sum_numbers(num1,num2):\n",
    "    print(num1)\n",
    "    print(num2)\n",
    "    return num1+num2 #Termination point\n",
    "sum_numbers(num1 = 45,num2 = 67)"
   ]
  },
  {
   "cell_type": "markdown",
   "id": "d7821ded-e0ef-4b9e-b2fb-eeb62dfb022c",
   "metadata": {},
   "source": [
    "##Chapter-3 Operators\n",
    "\n",
    "**Operator Precedence**\n",
    "1. Paranthesis ()\n",
    "2. Exponent **\n",
    "3. Multiplication, Division\n",
    "4. Addition, Subtraction"
   ]
  },
  {
   "cell_type": "markdown",
   "id": "8e0f4df4-1ebc-49fa-a470-7cda3e6eb831",
   "metadata": {},
   "source": [
    "**Arthmetic Operators**"
   ]
  },
  {
   "cell_type": "code",
   "execution_count": 62,
   "id": "16ce84a1-96a2-4c6a-afa0-e5d68b534e27",
   "metadata": {},
   "outputs": [
    {
     "data": {
      "text/plain": [
       "11"
      ]
     },
     "execution_count": 62,
     "metadata": {},
     "output_type": "execute_result"
    }
   ],
   "source": [
    "#Addition\n",
    "a=5\n",
    "b=6\n",
    "a+b"
   ]
  },
  {
   "cell_type": "code",
   "execution_count": 64,
   "id": "bb46a780-a1fd-4c10-8259-a4c6333e6859",
   "metadata": {},
   "outputs": [
    {
     "data": {
      "text/plain": [
       "-1"
      ]
     },
     "execution_count": 64,
     "metadata": {},
     "output_type": "execute_result"
    }
   ],
   "source": [
    "#Subtraction\n",
    "a=5\n",
    "b=6\n",
    "a-b"
   ]
  },
  {
   "cell_type": "code",
   "execution_count": 66,
   "id": "fe71ca38-d702-48f4-aa5a-ef0568cee533",
   "metadata": {},
   "outputs": [
    {
     "data": {
      "text/plain": [
       "30"
      ]
     },
     "execution_count": 66,
     "metadata": {},
     "output_type": "execute_result"
    }
   ],
   "source": [
    "#Multiplication\n",
    "a=5\n",
    "b=6\n",
    "a*b"
   ]
  },
  {
   "cell_type": "code",
   "execution_count": 14,
   "id": "aaa746d7-17d9-4e68-aa9e-df22b67f6173",
   "metadata": {},
   "outputs": [
    {
     "data": {
      "text/plain": [
       "2.5"
      ]
     },
     "execution_count": 14,
     "metadata": {},
     "output_type": "execute_result"
    }
   ],
   "source": [
    "#quotient\n",
    "10/4 "
   ]
  },
  {
   "cell_type": "code",
   "execution_count": 26,
   "id": "a9df37fb-90d1-46c0-afd7-cd883110e791",
   "metadata": {},
   "outputs": [
    {
     "data": {
      "text/plain": [
       "2"
      ]
     },
     "execution_count": 26,
     "metadata": {},
     "output_type": "execute_result"
    }
   ],
   "source": [
    "#floor division(output int)\n",
    "10//4"
   ]
  },
  {
   "cell_type": "code",
   "execution_count": 10,
   "id": "55623895-74d1-4a58-b5d2-030c74d75abc",
   "metadata": {},
   "outputs": [
    {
     "data": {
      "text/plain": [
       "2"
      ]
     },
     "execution_count": 10,
     "metadata": {},
     "output_type": "execute_result"
    }
   ],
   "source": [
    "#remainder\n",
    "10%4 "
   ]
  },
  {
   "cell_type": "code",
   "execution_count": 57,
   "id": "0bc1f868-1f45-4379-8b25-f9798316ac56",
   "metadata": {},
   "outputs": [
    {
     "data": {
      "text/plain": [
       "125"
      ]
     },
     "execution_count": 57,
     "metadata": {},
     "output_type": "execute_result"
    }
   ],
   "source": [
    "#exponent\n",
    "a=5\n",
    "b=3\n",
    "a**b"
   ]
  },
  {
   "cell_type": "markdown",
   "id": "cf37c374-340e-46c8-abe9-612c09d3fbe3",
   "metadata": {},
   "source": [
    "**Comparison Operators**"
   ]
  },
  {
   "cell_type": "code",
   "execution_count": 2,
   "id": "2874d79e-bdf3-4b29-a082-b376a8e7dd9b",
   "metadata": {},
   "outputs": [
    {
     "data": {
      "text/plain": [
       "False"
      ]
     },
     "execution_count": 2,
     "metadata": {},
     "output_type": "execute_result"
    }
   ],
   "source": [
    "6 == '5' #Equal to Operator\n",
    "#6 is int and '5' is string"
   ]
  },
  {
   "cell_type": "code",
   "execution_count": 4,
   "id": "e763f5c6-da4a-4f53-a744-8fa26952c895",
   "metadata": {},
   "outputs": [
    {
     "data": {
      "text/plain": [
       "True"
      ]
     },
     "execution_count": 4,
     "metadata": {},
     "output_type": "execute_result"
    }
   ],
   "source": [
    "#Not equal to\n",
    "'A' != 'B' "
   ]
  },
  {
   "cell_type": "code",
   "execution_count": 16,
   "id": "4c602145-ee12-42a1-8f07-774c3d784126",
   "metadata": {},
   "outputs": [
    {
     "data": {
      "text/plain": [
       "False"
      ]
     },
     "execution_count": 16,
     "metadata": {},
     "output_type": "execute_result"
    }
   ],
   "source": [
    "#greater than\n",
    "a=5\n",
    "b=6\n",
    "a>b"
   ]
  },
  {
   "cell_type": "code",
   "execution_count": 22,
   "id": "c47d90d0-2432-4188-83de-11de0f484ed9",
   "metadata": {},
   "outputs": [
    {
     "data": {
      "text/plain": [
       "True"
      ]
     },
     "execution_count": 22,
     "metadata": {},
     "output_type": "execute_result"
    }
   ],
   "source": [
    "#lesser than\n",
    "a=5\n",
    "b=6\n",
    "a<b"
   ]
  },
  {
   "cell_type": "code",
   "execution_count": 32,
   "id": "cd07c1e7-6ea7-427d-bc6f-2eed6eb3c6da",
   "metadata": {},
   "outputs": [
    {
     "data": {
      "text/plain": [
       "True"
      ]
     },
     "execution_count": 32,
     "metadata": {},
     "output_type": "execute_result"
    }
   ],
   "source": [
    "#greater than or equal to\n",
    "a=5\n",
    "b=5\n",
    "a>=b"
   ]
  },
  {
   "cell_type": "code",
   "execution_count": 30,
   "id": "29acba64-fcf9-4a6a-ad8b-9e9e93e0f637",
   "metadata": {},
   "outputs": [
    {
     "data": {
      "text/plain": [
       "True"
      ]
     },
     "execution_count": 30,
     "metadata": {},
     "output_type": "execute_result"
    }
   ],
   "source": [
    "#lesser than or equal to\n",
    "a=5\n",
    "b=6\n",
    "a<=b"
   ]
  },
  {
   "cell_type": "markdown",
   "id": "bec97a9d-535d-46e6-af5b-8b73a7a47eb2",
   "metadata": {},
   "source": [
    "**Python Logical Operators**\n",
    "\n",
    "**AND** - will return True, only if both conditions is True.\n",
    "\n",
    "**OR** - will return True if anyone condition is True."
   ]
  },
  {
   "cell_type": "code",
   "execution_count": 37,
   "id": "ece8ed51-7b1c-4a25-8c08-5b93b5043ade",
   "metadata": {},
   "outputs": [
    {
     "data": {
      "text/plain": [
       "False"
      ]
     },
     "execution_count": 37,
     "metadata": {},
     "output_type": "execute_result"
    }
   ],
   "source": [
    "#marks\n",
    "machine_learning = 95\n",
    "deep_learning    = 100\n",
    "nlp              = 98\n"
   ]
  },
  {
   "cell_type": "code",
   "execution_count": null,
   "id": "eef09fa5-175e-406b-9354-f29aa18210f4",
   "metadata": {},
   "outputs": [],
   "source": [
    "#and operator\n",
    "machine_learning > deep_learning and deep_learning > nlp"
   ]
  },
  {
   "cell_type": "code",
   "execution_count": 39,
   "id": "8e36e288-fa19-4db5-bb9e-13a77b9158ce",
   "metadata": {},
   "outputs": [
    {
     "data": {
      "text/plain": [
       "True"
      ]
     },
     "execution_count": 39,
     "metadata": {},
     "output_type": "execute_result"
    }
   ],
   "source": [
    "#or operator\n",
    "machine_learning > deep_learning or deep_learning > nlp"
   ]
  },
  {
   "cell_type": "markdown",
   "id": "bcb3a173-534e-464e-8701-bc4068f27b65",
   "metadata": {},
   "source": [
    "**Membership Operators**\n",
    "\n",
    "**IN**- checks if a particular word is available in data.\n",
    "\n",
    "**NOT IN** -checks if a particular word is not available in data."
   ]
  },
  {
   "cell_type": "code",
   "execution_count": 45,
   "id": "3fbac028-4fc9-4b0b-8eb7-7f425e1f67a3",
   "metadata": {},
   "outputs": [],
   "source": [
    "feedback = 'Machine Learning session is bit challenging to understand.'"
   ]
  },
  {
   "cell_type": "code",
   "execution_count": 51,
   "id": "3e40fa19-f877-4b45-8ad5-789fb4725da2",
   "metadata": {},
   "outputs": [
    {
     "data": {
      "text/plain": [
       "True"
      ]
     },
     "execution_count": 51,
     "metadata": {},
     "output_type": "execute_result"
    }
   ],
   "source": [
    "#in operator\n",
    "'challenging' in feedback"
   ]
  },
  {
   "cell_type": "code",
   "execution_count": 49,
   "id": "601a8de8-e6f7-45cd-ba2d-c727e7b6c5cd",
   "metadata": {},
   "outputs": [
    {
     "data": {
      "text/plain": [
       "False"
      ]
     },
     "execution_count": 49,
     "metadata": {},
     "output_type": "execute_result"
    }
   ],
   "source": [
    "'challenging' not in feedback"
   ]
  }
 ],
 "metadata": {
  "kernelspec": {
   "display_name": "Python [conda env:base] *",
   "language": "python",
   "name": "conda-base-py"
  },
  "language_info": {
   "codemirror_mode": {
    "name": "ipython",
    "version": 3
   },
   "file_extension": ".py",
   "mimetype": "text/x-python",
   "name": "python",
   "nbconvert_exporter": "python",
   "pygments_lexer": "ipython3",
   "version": "3.12.7"
  }
 },
 "nbformat": 4,
 "nbformat_minor": 5
}
