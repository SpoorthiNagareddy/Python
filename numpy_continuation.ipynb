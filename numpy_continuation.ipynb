{
 "cells": [
  {
   "cell_type": "markdown",
   "id": "13c10ca6-766a-464f-b096-9361aaf582e7",
   "metadata": {},
   "source": [
    "**2D numpy array continuation**"
   ]
  },
  {
   "cell_type": "code",
   "execution_count": 38,
   "id": "8b360cbc-a976-4680-9bb9-0a58c45ec620",
   "metadata": {},
   "outputs": [],
   "source": [
    "import numpy as np"
   ]
  },
  {
   "cell_type": "code",
   "execution_count": 7,
   "id": "29cf7d37-4328-4913-9d5f-b03b0751e382",
   "metadata": {},
   "outputs": [
    {
     "data": {
      "text/plain": [
       "array([[1, 2, 3],\n",
       "       [4, 5, 6],\n",
       "       [7, 8, 9]])"
      ]
     },
     "execution_count": 7,
     "metadata": {},
     "output_type": "execute_result"
    }
   ],
   "source": [
    "#2D array\n",
    "two_dim=np.array([[1,2,3],[4,5,6],[7,8,9]])\n",
    "two_dim"
   ]
  },
  {
   "cell_type": "markdown",
   "id": "4f0e2244-8635-4e10-95ee-f2837f9441b3",
   "metadata": {},
   "source": [
    "**to delete a row**"
   ]
  },
  {
   "cell_type": "code",
   "execution_count": 16,
   "id": "b5a5b71f-b3aa-4372-be34-25777b67decb",
   "metadata": {},
   "outputs": [
    {
     "data": {
      "text/plain": [
       "array([[1, 2, 3],\n",
       "       [4, 5, 6]])"
      ]
     },
     "execution_count": 16,
     "metadata": {},
     "output_type": "execute_result"
    }
   ],
   "source": [
    "#use delete function(array name,row which we want to delete, axis=0 for any row)\n",
    "np.delete(two_dim,2,axis=0)"
   ]
  },
  {
   "cell_type": "markdown",
   "id": "31738b35-dc14-4268-b9a1-90c66281b8f8",
   "metadata": {},
   "source": [
    "**to delete a column**"
   ]
  },
  {
   "cell_type": "code",
   "execution_count": 18,
   "id": "7f4a6523-6e21-4a21-aac8-393f3bd4443f",
   "metadata": {},
   "outputs": [
    {
     "data": {
      "text/plain": [
       "array([[1, 3],\n",
       "       [4, 6],\n",
       "       [7, 9]])"
      ]
     },
     "execution_count": 18,
     "metadata": {},
     "output_type": "execute_result"
    }
   ],
   "source": [
    "#use delete function(array name,column which we want to delete, axis=1 for any column)\n",
    "np.delete(two_dim,1,axis=1)"
   ]
  },
  {
   "cell_type": "markdown",
   "id": "a3dcfaa5-7bb8-490e-a0c9-7cf430e22180",
   "metadata": {},
   "source": [
    "**arrange function- to give list of numbers in order specified in range**"
   ]
  },
  {
   "cell_type": "code",
   "execution_count": 26,
   "id": "c8391d1a-439c-48ec-815d-fe3f0a7c49e9",
   "metadata": {},
   "outputs": [
    {
     "data": {
      "text/plain": [
       "array([ 1,  2,  3,  4,  5,  6,  7,  8,  9, 10, 11])"
      ]
     },
     "execution_count": 26,
     "metadata": {},
     "output_type": "execute_result"
    }
   ],
   "source": [
    "np.arange(1, 12)"
   ]
  },
  {
   "cell_type": "markdown",
   "id": "ca234bb0-b475-4739-ad5e-37310383070a",
   "metadata": {},
   "source": [
    "**reshape- is used to change the shape of an array without changing its data**"
   ]
  },
  {
   "cell_type": "code",
   "execution_count": 42,
   "id": "d1fde170-7175-4599-bee9-9d91e7f3e79c",
   "metadata": {},
   "outputs": [
    {
     "data": {
      "text/plain": [
       "array([[ 1,  2,  3,  4],\n",
       "       [ 5,  6,  7,  8],\n",
       "       [ 9, 10, 11, 12],\n",
       "       [13, 14, 15, 16]])"
      ]
     },
     "execution_count": 42,
     "metadata": {},
     "output_type": "execute_result"
    }
   ],
   "source": [
    "#4x4 matrix of numbers in order from 1-16\n",
    "two_dim1 = np.arange(1, 17).reshape(4, 4)\n",
    "two_dim1"
   ]
  },
  {
   "cell_type": "markdown",
   "id": "b9d6e43e-d1c0-4295-88d8-a76ffd2d8ee1",
   "metadata": {},
   "source": [
    "**random- to get a random value within a range**"
   ]
  },
  {
   "cell_type": "code",
   "execution_count": 44,
   "id": "ec607cd9-4a33-4427-9f09-7536f9000055",
   "metadata": {},
   "outputs": [
    {
     "data": {
      "text/plain": [
       "26"
      ]
     },
     "execution_count": 44,
     "metadata": {},
     "output_type": "execute_result"
    }
   ],
   "source": [
    "np.random.randint(10,100)"
   ]
  },
  {
   "cell_type": "code",
   "execution_count": 47,
   "id": "c4c21420-a7fb-47ea-b971-9251a7b64bbf",
   "metadata": {},
   "outputs": [
    {
     "data": {
      "text/plain": [
       "array([87, 69, 95, 20, 88, 36, 53, 39, 45, 20])"
      ]
     },
     "execution_count": 47,
     "metadata": {},
     "output_type": "execute_result"
    }
   ],
   "source": [
    "#10 random numbers- np.random.randint(range,number of values)\n",
    "np.random.randint(10,100,10)"
   ]
  },
  {
   "cell_type": "code",
   "execution_count": 53,
   "id": "894fa560-861f-477c-bafc-17788f9b6ae6",
   "metadata": {},
   "outputs": [
    {
     "data": {
      "text/plain": [
       "array([[33, 40, 82],\n",
       "       [49, 43, 97],\n",
       "       [88, 54, 35]])"
      ]
     },
     "execution_count": 53,
     "metadata": {},
     "output_type": "execute_result"
    }
   ],
   "source": [
    "##10 random numbers in a 2D array- np.random.randint(range,number of values).reshape(rowsxcolumns)\n",
    "np.random.randint(10,100,9).reshape(3,3)"
   ]
  },
  {
   "cell_type": "code",
   "execution_count": 55,
   "id": "f8420845-bba4-4071-af93-3dda84db7c88",
   "metadata": {},
   "outputs": [
    {
     "data": {
      "text/plain": [
       "9"
      ]
     },
     "execution_count": 55,
     "metadata": {},
     "output_type": "execute_result"
    }
   ],
   "source": [
    "#max value\n",
    "np.max(two_dim)"
   ]
  },
  {
   "cell_type": "code",
   "execution_count": 57,
   "id": "b2f1fe10-c9ee-4bd8-9528-4f1fe1ff642c",
   "metadata": {},
   "outputs": [
    {
     "data": {
      "text/plain": [
       "1"
      ]
     },
     "execution_count": 57,
     "metadata": {},
     "output_type": "execute_result"
    }
   ],
   "source": [
    "#min value\n",
    "np.min(two_dim)"
   ]
  },
  {
   "cell_type": "code",
   "execution_count": 61,
   "id": "3382f104-1d5c-4375-8c83-704491d5427c",
   "metadata": {},
   "outputs": [
    {
     "data": {
      "text/plain": [
       "5.0"
      ]
     },
     "execution_count": 61,
     "metadata": {},
     "output_type": "execute_result"
    }
   ],
   "source": [
    "#mean\n",
    "np.mean(two_dim)"
   ]
  },
  {
   "cell_type": "code",
   "execution_count": 63,
   "id": "183f56c5-c1c7-4bfc-b462-f9a80e2f23be",
   "metadata": {},
   "outputs": [
    {
     "data": {
      "text/plain": [
       "5.0"
      ]
     },
     "execution_count": 63,
     "metadata": {},
     "output_type": "execute_result"
    }
   ],
   "source": [
    "#median\n",
    "np.median(two_dim)"
   ]
  },
  {
   "cell_type": "code",
   "execution_count": 65,
   "id": "1549e5db-3ec5-41bb-a993-8a375d72fc96",
   "metadata": {},
   "outputs": [
    {
     "data": {
      "text/plain": [
       "array([[1, 4, 7],\n",
       "       [2, 5, 8],\n",
       "       [3, 6, 9]])"
      ]
     },
     "execution_count": 65,
     "metadata": {},
     "output_type": "execute_result"
    }
   ],
   "source": [
    "#transpose- columns become rows\n",
    "np.transpose(two_dim)"
   ]
  },
  {
   "cell_type": "code",
   "execution_count": 67,
   "id": "738af49a-95d7-4dfa-8060-2491ce6c0091",
   "metadata": {},
   "outputs": [
    {
     "data": {
      "text/plain": [
       "8"
      ]
     },
     "execution_count": 67,
     "metadata": {},
     "output_type": "execute_result"
    }
   ],
   "source": [
    "#maximum value index\n",
    "np.argmax(two_dim)"
   ]
  },
  {
   "cell_type": "code",
   "execution_count": 69,
   "id": "3c77fbec-93e4-4b5d-904d-f9ec4667b0fe",
   "metadata": {},
   "outputs": [
    {
     "data": {
      "text/plain": [
       "0"
      ]
     },
     "execution_count": 69,
     "metadata": {},
     "output_type": "execute_result"
    }
   ],
   "source": [
    "#minimum value index\n",
    "np.argmin(two_dim)"
   ]
  },
  {
   "cell_type": "code",
   "execution_count": 75,
   "id": "402b5212-0f7c-41d4-9dd1-4157cdaa47e0",
   "metadata": {},
   "outputs": [
    {
     "data": {
      "text/plain": [
       "-9.51619735392994e-16"
      ]
     },
     "execution_count": 75,
     "metadata": {},
     "output_type": "execute_result"
    }
   ],
   "source": [
    "#determinant using line algorithmn function\n",
    "np.linalg.det(two_dim)"
   ]
  },
  {
   "cell_type": "code",
   "execution_count": 77,
   "id": "8ec49c96-fe2c-4b07-aa8a-4bc994591b61",
   "metadata": {},
   "outputs": [],
   "source": [
    "a=np.array([[1,2,3],[4,5,6],[7,8,9]])\n",
    "b=np.array([[4,7,2],[8,1,3],[10,45,3]])"
   ]
  },
  {
   "cell_type": "code",
   "execution_count": 79,
   "id": "6565f207-5047-4c33-99fd-e044589a2cbf",
   "metadata": {},
   "outputs": [
    {
     "data": {
      "text/plain": [
       "array([[ 5,  9,  5],\n",
       "       [12,  6,  9],\n",
       "       [17, 53, 12]])"
      ]
     },
     "execution_count": 79,
     "metadata": {},
     "output_type": "execute_result"
    }
   ],
   "source": [
    "#addition\n",
    "a+b"
   ]
  },
  {
   "cell_type": "code",
   "execution_count": 81,
   "id": "3b9b6b11-37f2-4588-9d34-595fbbb1b59b",
   "metadata": {},
   "outputs": [
    {
     "data": {
      "text/plain": [
       "array([[ -3,  -5,   1],\n",
       "       [ -4,   4,   3],\n",
       "       [ -3, -37,   6]])"
      ]
     },
     "execution_count": 81,
     "metadata": {},
     "output_type": "execute_result"
    }
   ],
   "source": [
    "#subtraction\n",
    "a-b"
   ]
  },
  {
   "cell_type": "code",
   "execution_count": 83,
   "id": "b4ad5763-d373-4c2e-be01-18458d0473fb",
   "metadata": {},
   "outputs": [
    {
     "data": {
      "text/plain": [
       "array([[ 50, 144,  17],\n",
       "       [116, 303,  41],\n",
       "       [182, 462,  65]])"
      ]
     },
     "execution_count": 83,
     "metadata": {},
     "output_type": "execute_result"
    }
   ],
   "source": [
    "#matrix multiplication\n",
    "a@b"
   ]
  },
  {
   "cell_type": "code",
   "execution_count": 85,
   "id": "9e9a3423-a2fa-4f54-add1-37f9239f397c",
   "metadata": {},
   "outputs": [
    {
     "data": {
      "text/plain": [
       "array([[1., 0., 0., 0.],\n",
       "       [0., 1., 0., 0.],\n",
       "       [0., 0., 1., 0.],\n",
       "       [0., 0., 0., 1.]])"
      ]
     },
     "execution_count": 85,
     "metadata": {},
     "output_type": "execute_result"
    }
   ],
   "source": [
    "#identity matrix\n",
    "np.identity(4)"
   ]
  },
  {
   "cell_type": "code",
   "execution_count": null,
   "id": "dee17de0-3f5e-464c-91fd-17b26dc6376f",
   "metadata": {},
   "outputs": [],
   "source": []
  }
 ],
 "metadata": {
  "kernelspec": {
   "display_name": "Python [conda env:base] *",
   "language": "python",
   "name": "conda-base-py"
  },
  "language_info": {
   "codemirror_mode": {
    "name": "ipython",
    "version": 3
   },
   "file_extension": ".py",
   "mimetype": "text/x-python",
   "name": "python",
   "nbconvert_exporter": "python",
   "pygments_lexer": "ipython3",
   "version": "3.12.7"
  }
 },
 "nbformat": 4,
 "nbformat_minor": 5
}
