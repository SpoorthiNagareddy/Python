{
 "cells": [
  {
   "cell_type": "markdown",
   "id": "0e2953db-f719-468b-abd5-1d6c80ef6f66",
   "metadata": {},
   "source": [
    "**List**- Lists are used to store multiple items in a single variable.Lists are created using square brackets.\n",
    "\n",
    "List items are ordered, changeable, and allow duplicate values.\n",
    "\n",
    "Lists are ordered, if you add new items to a list, the new items will be placed at the end of the list.\n",
    "\n",
    "The list is changeable, meaning that we can change, add, and remove items in a list after it has been created.\n",
    "\n",
    "Since lists are indexed, lists can have items with the same value:"
   ]
  },
  {
   "cell_type": "code",
   "execution_count": 3,
   "id": "51970779-e942-40e6-96b0-e6d96e8218a5",
   "metadata": {},
   "outputs": [
    {
     "name": "stdout",
     "output_type": "stream",
     "text": [
      "['apple', 'banana', 'cherry']\n"
     ]
    }
   ],
   "source": [
    "#to define a list\n",
    "fruits = [\"apple\", \"banana\", \"cherry\"]\n",
    "print(fruits)"
   ]
  },
  {
   "cell_type": "markdown",
   "id": "b6786d5d-8d12-441a-a9cc-002ee247622c",
   "metadata": {},
   "source": [
    "**LIST METHODS**"
   ]
  },
  {
   "cell_type": "markdown",
   "id": "b0d8e577-911e-4800-9c6c-358be56ef99e",
   "metadata": {},
   "source": [
    "**Access Elements in a list**"
   ]
  },
  {
   "cell_type": "code",
   "execution_count": 13,
   "id": "8a561ae1-823d-41e8-8e48-b5dab6f05147",
   "metadata": {},
   "outputs": [
    {
     "name": "stdout",
     "output_type": "stream",
     "text": [
      "R\n",
      "Python\n"
     ]
    }
   ],
   "source": [
    "programming = ['C', 'R', 'C++','Python']\n",
    "# access the first element\n",
    "print(programming[1])\n",
    "# access the third element\n",
    "print(programming[3])"
   ]
  },
  {
   "cell_type": "markdown",
   "id": "d2f7e80a-4e61-4684-9141-e3aa0d6f4ce7",
   "metadata": {},
   "source": [
    "**append()-Adding elements to a list**"
   ]
  },
  {
   "cell_type": "code",
   "execution_count": 20,
   "id": "b7d7311e-f892-41e2-9b8b-76f5ae169025",
   "metadata": {},
   "outputs": [
    {
     "name": "stdout",
     "output_type": "stream",
     "text": [
      "Updated List: ['C', 'R', 'C++', 'Python', 'Unix']\n"
     ]
    }
   ],
   "source": [
    "#Unix is added at the end of the list\n",
    "programming = ['C', 'R', 'C++','Python']\n",
    "programming.append('Unix')\n",
    "print(\"Updated List:\", programming)"
   ]
  },
  {
   "cell_type": "markdown",
   "id": "2e2c68be-a615-4279-9b84-6191ad0d4be1",
   "metadata": {},
   "source": [
    "**index()-returns the index of the specified element in the list**"
   ]
  },
  {
   "cell_type": "code",
   "execution_count": 59,
   "id": "edb1bc9d-6184-4791-85bb-55415362b26c",
   "metadata": {},
   "outputs": [
    {
     "name": "stdout",
     "output_type": "stream",
     "text": [
      "1\n"
     ]
    }
   ],
   "source": [
    "#Get index of R\n",
    "programming = ['C', 'R', 'C++','Python']\n",
    "index1 = programming.index('R')\n",
    "print(index1)"
   ]
  },
  {
   "cell_type": "markdown",
   "id": "f21144a4-6294-496c-a139-4352db83b92f",
   "metadata": {},
   "source": [
    "**insert()-Adding elements to a specified index in a list**"
   ]
  },
  {
   "cell_type": "code",
   "execution_count": 27,
   "id": "306e9c7c-0a76-470b-80ce-58203434a3c6",
   "metadata": {},
   "outputs": [
    {
     "name": "stdout",
     "output_type": "stream",
     "text": [
      "Updated List: ['C', 'R', 'Java', 'C++', 'Python']\n"
     ]
    }
   ],
   "source": [
    "#Java is added at index 2 of the list \n",
    "programming = ['C', 'R', 'C++','Python']\n",
    "programming.insert(2, 'Java')\n",
    "print(\"Updated List:\", programming)"
   ]
  },
  {
   "cell_type": "markdown",
   "id": "6fb7c535-f1b8-4ae3-b396-bce1f740c445",
   "metadata": {},
   "source": [
    "**count()-method returns the number of times the specified element appears in the list**"
   ]
  },
  {
   "cell_type": "code",
   "execution_count": 65,
   "id": "0f73d37c-dec4-41b0-adc0-f9a44822a452",
   "metadata": {},
   "outputs": [
    {
     "name": "stdout",
     "output_type": "stream",
     "text": [
      "Count of 3: 4\n"
     ]
    }
   ],
   "source": [
    "#check for the count of 3\n",
    "numbers = [3, 3, 9, 7, 3, 4, 7,6 ,8 ,3]\n",
    "count1 = numbers.count(3)\n",
    "print(\"Count of 3:\", count1)\n"
   ]
  },
  {
   "cell_type": "markdown",
   "id": "429543a9-9aba-4c7a-888c-e1398b4f4ca9",
   "metadata": {},
   "source": [
    "**extend()- Adding elements of one list to another**"
   ]
  },
  {
   "cell_type": "code",
   "execution_count": 39,
   "id": "0157dbfc-3256-423c-9253-74620da0ecee",
   "metadata": {},
   "outputs": [
    {
     "name": "stdout",
     "output_type": "stream",
     "text": [
      "Odd Numbers: [1, 3, 5, 7]\n",
      "Even numbers: [2, 4, 6, 8]\n",
      "Updated Numbers: [1, 3, 5, 7, 2, 4, 6, 8]\n"
     ]
    }
   ],
   "source": [
    "#combine both the lists\n",
    "odd_numbers = [1, 3, 5,7]\n",
    "print(\"Odd Numbers:\",odd_numbers)\n",
    "\n",
    "even_numbers  = [2, 4, 6,8]\n",
    "print(\"Even numbers:\",even_numbers)\n",
    "\n",
    "odd_numbers.extend(even_numbers)\n",
    "\n",
    "print(\"Updated Numbers:\", odd_numbers) "
   ]
  },
  {
   "cell_type": "markdown",
   "id": "297abbeb-22ba-4feb-8043-aae34d80e13a",
   "metadata": {},
   "source": [
    "**remove()-remove items in a list**"
   ]
  },
  {
   "cell_type": "code",
   "execution_count": 47,
   "id": "7d3497f7-d3c9-4791-9f48-4276d0c49479",
   "metadata": {},
   "outputs": [
    {
     "name": "stdout",
     "output_type": "stream",
     "text": [
      "['Red', 'Black', 'Green', 'Pink']\n"
     ]
    }
   ],
   "source": [
    "#Remove yellow from list\n",
    "colors = ['Red', 'Black', 'Green','Yellow','Pink']\n",
    "colors.remove('Yellow')\n",
    "print(colors) "
   ]
  },
  {
   "cell_type": "markdown",
   "id": "3e5a71a1-ea31-4a75-9e29-bd703951e4b4",
   "metadata": {},
   "source": [
    "**pop()-removes the item at the specified index. The method also returns the removed item**"
   ]
  },
  {
   "cell_type": "code",
   "execution_count": 74,
   "id": "d2b13f3d-9def-4741-a592-32fde879648f",
   "metadata": {},
   "outputs": [
    {
     "name": "stdout",
     "output_type": "stream",
     "text": [
      "Removed Element: 13\n",
      "Updated List: [2, 3, 5, 7, 11, 19]\n"
     ]
    }
   ],
   "source": [
    "# remove the element at index 5 & print new list\n",
    "prime_numbers = [2, 3, 5, 7, 11, 13, 19]\n",
    "removed_element = prime_numbers.pop(5)\n",
    "\n",
    "print(\"Removed Element:\", removed_element)\n",
    "print(\"Updated List:\", prime_numbers)"
   ]
  },
  {
   "cell_type": "markdown",
   "id": "d22b932b-7d08-4440-9532-4e9790552ba7",
   "metadata": {},
   "source": [
    "**remove more than 1 item in a list**"
   ]
  },
  {
   "cell_type": "code",
   "execution_count": 52,
   "id": "a897de0a-a175-4ebd-9557-aa9bb535cd82",
   "metadata": {},
   "outputs": [
    {
     "name": "stdout",
     "output_type": "stream",
     "text": [
      "['Red', 'Yellow', 'Pink']\n"
     ]
    }
   ],
   "source": [
    "# delete items from index 1 to index 2\n",
    "colors = ['Red', 'Black', 'Green','Yellow','Pink']\n",
    "del colors[1: 3]\n",
    "print(colors)"
   ]
  },
  {
   "cell_type": "markdown",
   "id": "20528e06-5636-4701-ae8a-3f62689eb1b2",
   "metadata": {},
   "source": [
    "**reverse()-reverses the elements of the list**"
   ]
  },
  {
   "cell_type": "code",
   "execution_count": 77,
   "id": "124c5caf-598f-4ef5-9a7a-212d73a2b7a4",
   "metadata": {},
   "outputs": [
    {
     "name": "stdout",
     "output_type": "stream",
     "text": [
      "Reversed List: [19, 13, 11, 7, 5, 3, 2]\n"
     ]
    }
   ],
   "source": [
    "#Feverse the elements in a list\n",
    "prime_numbers = [2, 3, 5, 7, 11, 13, 19]\n",
    "prime_numbers.reverse()\n",
    "print('Reversed List:', prime_numbers)"
   ]
  },
  {
   "cell_type": "markdown",
   "id": "75a3c878-61fd-4609-925e-29a0069fdc6b",
   "metadata": {},
   "source": [
    "**sort()- sorts the elements of a list**"
   ]
  },
  {
   "cell_type": "code",
   "execution_count": 79,
   "id": "366e0879-fa19-4559-b42e-12a0b3ce67c1",
   "metadata": {},
   "outputs": [
    {
     "name": "stdout",
     "output_type": "stream",
     "text": [
      "[2, 3, 5, 7, 11, 13, 19]\n"
     ]
    }
   ],
   "source": [
    "# sort the list in ascending order\n",
    "prime_numbers = [2, 3, 5, 7, 11, 13, 19]\n",
    "prime_numbers.sort()\n",
    "print(prime_numbers)"
   ]
  },
  {
   "cell_type": "markdown",
   "id": "aab15c70-444e-4a2e-9e95-43e3781f0ed1",
   "metadata": {},
   "source": [
    "**modify the items in list**"
   ]
  },
  {
   "cell_type": "code",
   "execution_count": 42,
   "id": "01b7d004-b106-4b7f-b139-2e1b1f5d85a3",
   "metadata": {},
   "outputs": [
    {
     "name": "stdout",
     "output_type": "stream",
     "text": [
      "Updated List: ['Red', 'Purple', 'Green', 'Blue', 'Pink']\n"
     ]
    }
   ],
   "source": [
    "#change index 1 to purple & index 3 to blue\n",
    "colors = ['Red', 'Black', 'Green','Yellow','Pink']\n",
    "colors[1] = 'Purple'\n",
    "colors[3] = 'Blue'\n",
    "print(\"Updated List:\", colors)"
   ]
  },
  {
   "cell_type": "markdown",
   "id": "2881bec0-a63e-4735-9280-d0a293630757",
   "metadata": {},
   "source": [
    "**List length**"
   ]
  },
  {
   "cell_type": "code",
   "execution_count": 55,
   "id": "d7f7a4d1-ad5c-46f2-b605-acb75054a4a2",
   "metadata": {},
   "outputs": [
    {
     "name": "stdout",
     "output_type": "stream",
     "text": [
      "Total Elements: 5\n"
     ]
    }
   ],
   "source": [
    "colors = ['Red', 'Black', 'Green','Yellow','Pink']\n",
    "\n",
    "print(\"Total Elements:\", len(colors))"
   ]
  },
  {
   "cell_type": "markdown",
   "id": "62ca8167-ac67-4828-9941-6a0c9bcf0cfd",
   "metadata": {},
   "source": [
    "**Tuple- A tuple is a collection similar to a Python list. The primary difference is that we cannot modify a tuple once it is created.\n",
    "\n",
    "Ordered - They maintain the order of elements.\n",
    "\n",
    "Immutable - They cannot be changed after creation.\n",
    "\n",
    "Allow duplicates - They can contain duplicate values.\n"
   ]
  },
  {
   "cell_type": "code",
   "execution_count": 83,
   "id": "01f75bd0-de60-428b-b26d-e3723ceccd8a",
   "metadata": {},
   "outputs": [
    {
     "name": "stdout",
     "output_type": "stream",
     "text": [
      "(1, 2, -5)\n"
     ]
    }
   ],
   "source": [
    "numbers = (1, 2, -5)\n",
    "print(numbers)"
   ]
  },
  {
   "cell_type": "markdown",
   "id": "0d8288ea-59be-44ca-aa38-68e755844a5d",
   "metadata": {},
   "source": [
    "**Sets- A set is a collection of unique data, meaning that elements within a set cannot be duplicated**"
   ]
  },
  {
   "cell_type": "code",
   "execution_count": 86,
   "id": "8a4c6cec-9839-443a-b395-6fa8db81769b",
   "metadata": {},
   "outputs": [
    {
     "name": "stdout",
     "output_type": "stream",
     "text": [
      "Vowel Letters: {'a', 'i', 'e', 'o', 'u'}\n"
     ]
    }
   ],
   "source": [
    "vowel_letters = {'a', 'e', 'i', 'o', 'u'}\n",
    "print('Vowel Letters:', vowel_letters)"
   ]
  },
  {
   "cell_type": "code",
   "execution_count": 90,
   "id": "cd3d1d56-6901-4beb-848b-5b3ef38f12b0",
   "metadata": {},
   "outputs": [
    {
     "name": "stdout",
     "output_type": "stream",
     "text": [
      "set()\n"
     ]
    }
   ],
   "source": [
    "# create an empty set\n",
    "empty_set = set()\n",
    "print(empty_set)"
   ]
  },
  {
   "cell_type": "markdown",
   "id": "36057165-632a-4772-8bf7-6ae3c4cc8d16",
   "metadata": {},
   "source": [
    "**Dictionary- Dictionaries are used to store data values in key:value pairs**\n",
    "\n",
    "A dictionary is a collection which is ordered, changeable and do not allow duplicates."
   ]
  },
  {
   "cell_type": "code",
   "execution_count": 94,
   "id": "a1420632-8892-4966-82f6-db49999ad51f",
   "metadata": {},
   "outputs": [
    {
     "name": "stdout",
     "output_type": "stream",
     "text": [
      "<class 'dict'>\n"
     ]
    }
   ],
   "source": [
    "# create an empty dictionary\n",
    "emptydict = dict()\n",
    "\n",
    "print(type(emptydict))"
   ]
  },
  {
   "cell_type": "code",
   "execution_count": 96,
   "id": "f1bdd1b0-76b5-4de9-be13-b85b728b9298",
   "metadata": {},
   "outputs": [
    {
     "name": "stdout",
     "output_type": "stream",
     "text": [
      "<class 'dict'>\n"
     ]
    }
   ],
   "source": [
    "#create an empty dictionary\n",
    "emptydict2 = {}\n",
    "print(type(emptydict2))"
   ]
  },
  {
   "cell_type": "code",
   "execution_count": 98,
   "id": "ee15c73f-4b5b-413d-9973-0efe1b286614",
   "metadata": {},
   "outputs": [
    {
     "data": {
      "text/plain": [
       "dict"
      ]
     },
     "execution_count": 98,
     "metadata": {},
     "output_type": "execute_result"
    }
   ],
   "source": [
    "#create dictionary \n",
    "phonedict = {'eric': '454-5555', 'john': '454-5195', 'michael': '454-9999'}\n",
    "type(phonedict)"
   ]
  },
  {
   "cell_type": "code",
   "execution_count": 106,
   "id": "b219928f-7ea7-4ad0-bd9c-b95b7003cb72",
   "metadata": {},
   "outputs": [
    {
     "data": {
      "text/plain": [
       "3"
      ]
     },
     "execution_count": 106,
     "metadata": {},
     "output_type": "execute_result"
    }
   ],
   "source": [
    "#length of dictionary\n",
    "len(phonedict)"
   ]
  },
  {
   "cell_type": "code",
   "execution_count": 111,
   "id": "85513e70-cce5-4126-859b-f7a73e16b493",
   "metadata": {},
   "outputs": [
    {
     "data": {
      "text/plain": [
       "dict_keys(['eric', 'john', 'michael'])"
      ]
     },
     "execution_count": 111,
     "metadata": {},
     "output_type": "execute_result"
    }
   ],
   "source": [
    "# fetch the dictionary keys\n",
    "phonedict.keys()"
   ]
  },
  {
   "cell_type": "code",
   "execution_count": 113,
   "id": "a306654a-710e-4406-bb59-c3538cd61c6f",
   "metadata": {},
   "outputs": [
    {
     "data": {
      "text/plain": [
       "['eric', 'john', 'michael']"
      ]
     },
     "execution_count": 113,
     "metadata": {},
     "output_type": "execute_result"
    }
   ],
   "source": [
    "# convert the dictionary keys to a list of values\n",
    "list(phonedict.keys())"
   ]
  },
  {
   "cell_type": "code",
   "execution_count": 115,
   "id": "63b4c83b-f025-4b66-9b47-a394974a6cd6",
   "metadata": {},
   "outputs": [
    {
     "data": {
      "text/plain": [
       "dict_values(['454-5555', '454-5195', '454-9999'])"
      ]
     },
     "execution_count": 115,
     "metadata": {},
     "output_type": "execute_result"
    }
   ],
   "source": [
    "# fetch the dictionary values\n",
    "phonedict.values()"
   ]
  },
  {
   "cell_type": "code",
   "execution_count": 161,
   "id": "ce9a6ed7-b9d8-4b61-8d58-c895668f25ef",
   "metadata": {},
   "outputs": [
    {
     "data": {
      "text/plain": [
       "['454-5555', '454-5195', '454-9999', '454-7951']"
      ]
     },
     "execution_count": 161,
     "metadata": {},
     "output_type": "execute_result"
    }
   ],
   "source": [
    "# convert the dictionary values to a list of values\n",
    "list(phonedict.values())"
   ]
  },
  {
   "cell_type": "code",
   "execution_count": 119,
   "id": "4810ab73-2bc9-45e2-9dbf-937ab3c82073",
   "metadata": {},
   "outputs": [
    {
     "data": {
      "text/plain": [
       "dict_items([('eric', '454-5555'), ('john', '454-5195'), ('michael', '454-9999')])"
      ]
     },
     "execution_count": 119,
     "metadata": {},
     "output_type": "execute_result"
    }
   ],
   "source": [
    "# fetch the dictionary items (tuple of key,value pairs)\n",
    "phonedict.items()"
   ]
  },
  {
   "cell_type": "markdown",
   "id": "ad7cfa69-96c0-41ea-b5e4-a6a8a4449be9",
   "metadata": {},
   "source": [
    "**To get the value of a particular key, we use square bracket index notation or get()**"
   ]
  },
  {
   "cell_type": "code",
   "execution_count": 130,
   "id": "85f9a44b-37c8-47c8-8084-10d5e99701c8",
   "metadata": {},
   "outputs": [
    {
     "data": {
      "text/plain": [
       "'454-5555'"
      ]
     },
     "execution_count": 130,
     "metadata": {},
     "output_type": "execute_result"
    }
   ],
   "source": [
    "phonedict['eric']"
   ]
  },
  {
   "cell_type": "code",
   "execution_count": 132,
   "id": "9a096ce7-7c3b-4a4c-8bf8-1f3f7e005f7c",
   "metadata": {},
   "outputs": [
    {
     "data": {
      "text/plain": [
       "'454-5555'"
      ]
     },
     "execution_count": 132,
     "metadata": {},
     "output_type": "execute_result"
    }
   ],
   "source": [
    "phonedict.get('eric')"
   ]
  },
  {
   "cell_type": "markdown",
   "id": "af7f0ee1-bd42-4f21-933b-91c6c77a7d81",
   "metadata": {},
   "source": [
    "**Dictionary Element Assignment**"
   ]
  },
  {
   "cell_type": "code",
   "execution_count": 136,
   "id": "5c256da4-f88c-4939-b66d-17b35cc5f378",
   "metadata": {},
   "outputs": [
    {
     "name": "stdout",
     "output_type": "stream",
     "text": [
      "{'eric': '454-5555', 'john': '454-5195', 'michael': '454-9999', 'chris': '454-7951'}\n"
     ]
    }
   ],
   "source": [
    "# adding chris to the dictionary and assigning him a phone number\n",
    "phonedict['chris'] = '454-7951'\n",
    "print(phonedict)"
   ]
  },
  {
   "cell_type": "markdown",
   "id": "8e9f9908-01aa-494c-be07-ec0a1e6fb885",
   "metadata": {},
   "source": [
    "**Iterating over a Dictionary**"
   ]
  },
  {
   "cell_type": "code",
   "execution_count": 169,
   "id": "551c3d84-ddc0-4745-8431-bd4cc372b0f0",
   "metadata": {},
   "outputs": [
    {
     "name": "stdout",
     "output_type": "stream",
     "text": [
      "eric\n",
      "john\n",
      "michael\n",
      "chris\n"
     ]
    }
   ],
   "source": [
    "for item in phonedict:\n",
    "    print(item)"
   ]
  },
  {
   "cell_type": "markdown",
   "id": "c9d929e5-0b55-4d4b-a4dd-1c013b8b7ab8",
   "metadata": {},
   "source": [
    "**if we want to iterate over a dictionary and to see both keys and items**"
   ]
  },
  {
   "cell_type": "code",
   "execution_count": 176,
   "id": "bec30210-46c9-4b5a-a4ec-8490db716b7a",
   "metadata": {},
   "outputs": [
    {
     "name": "stdout",
     "output_type": "stream",
     "text": [
      "eric 454-5555\n",
      "john 454-5195\n",
      "michael 454-9999\n",
      "chris 454-7951\n"
     ]
    }
   ],
   "source": [
    "for key,value in phonedict.items():\n",
    "    print (key, value)"
   ]
  },
  {
   "cell_type": "markdown",
   "id": "547e89e1-fbc9-44fa-bb19-3671cb7f8d7d",
   "metadata": {},
   "source": [
    "**Sort- it sorts the keys, so you can use this to print a dictionary in order of the keys**"
   ]
  },
  {
   "cell_type": "code",
   "execution_count": 186,
   "id": "d8896f5d-839d-4f14-b060-8efd0273e0c7",
   "metadata": {},
   "outputs": [
    {
     "data": {
      "text/plain": [
       "['chris', 'eric', 'john', 'michael']"
      ]
     },
     "execution_count": 186,
     "metadata": {},
     "output_type": "execute_result"
    }
   ],
   "source": [
    "ordered_dict = sorted(phonedict)\n",
    "ordered_dict"
   ]
  }
 ],
 "metadata": {
  "kernelspec": {
   "display_name": "Python [conda env:base] *",
   "language": "python",
   "name": "conda-base-py"
  },
  "language_info": {
   "codemirror_mode": {
    "name": "ipython",
    "version": 3
   },
   "file_extension": ".py",
   "mimetype": "text/x-python",
   "name": "python",
   "nbconvert_exporter": "python",
   "pygments_lexer": "ipython3",
   "version": "3.12.7"
  }
 },
 "nbformat": 4,
 "nbformat_minor": 5
}
