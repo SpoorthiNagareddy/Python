{
 "cells": [
  {
   "cell_type": "markdown",
   "id": "8ad1eef9-b154-4bd2-b98b-ce596d3d1e65",
   "metadata": {},
   "source": [
    "**\"if\" else statement**"
   ]
  },
  {
   "cell_type": "code",
   "execution_count": 1,
   "id": "b8fb236b-be0b-41b2-b9ed-7b8f9d1a61a8",
   "metadata": {},
   "outputs": [
    {
     "name": "stdin",
     "output_type": "stream",
     "text": [
      "Enter a number of your choice 323\n"
     ]
    },
    {
     "name": "stdout",
     "output_type": "stream",
     "text": [
      "the number is odd\n"
     ]
    }
   ],
   "source": [
    "#even or odd number entered by user\n",
    "user_input=int(input('Enter a number of your choice'))\n",
    "if user_input%2==0:\n",
    "    print('the number is even')\n",
    "else:\n",
    "    print('the number is odd')"
   ]
  },
  {
   "cell_type": "code",
   "execution_count": 62,
   "id": "f3898517-9f08-4bd4-8926-9517ae79291c",
   "metadata": {},
   "outputs": [
    {
     "name": "stdin",
     "output_type": "stream",
     "text": [
      "Enter your password 3445\n"
     ]
    },
    {
     "name": "stdout",
     "output_type": "stream",
     "text": [
      "WEAK PASSWORD!!!\n"
     ]
    }
   ],
   "source": [
    "#weak or strong password entered by user\n",
    "get_user_password = input('Enter your password')\n",
    "\n",
    "if len(get_user_password)<5:\n",
    "    print('WEAK PASSWORD!!!')\n",
    "else:\n",
    "    print('STRONG PASSWORD')"
   ]
  },
  {
   "cell_type": "markdown",
   "id": "7143cf2e-c48b-4db8-8c51-7540394b0a6b",
   "metadata": {},
   "source": [
    "**\"if elif else\" statement** "
   ]
  },
  {
   "cell_type": "code",
   "execution_count": 41,
   "id": "52653d05-5dc8-4a51-bcc8-356c03a40813",
   "metadata": {},
   "outputs": [
    {
     "name": "stdout",
     "output_type": "stream",
     "text": [
      "a is greater than b\n"
     ]
    }
   ],
   "source": [
    "#to check which relationship between variables\n",
    "a = 23\n",
    "b = 19\n",
    "if b > a:\n",
    "  print(\"b is greater than a\")\n",
    "elif a == b:\n",
    "  print(\"a and b are equal\")\n",
    "else:\n",
    "  print(\"a is greater than b\")"
   ]
  },
  {
   "cell_type": "code",
   "execution_count": null,
   "id": "9d2e50fd-9dd6-4d77-823c-679befcacc71",
   "metadata": {},
   "outputs": [],
   "source": [
    "#to check if password entered by user is weak, moderate or strong\n",
    "get_user_password = input('Enter your password')\n",
    "\n",
    "if len(get_user_password)<5:\n",
    "    print('WEAK PASSWORD!!!')\n",
    "elif 5<=len(get_user_password)<=10:\n",
    "    print('MODERATE PASSWORD!!')\n",
    "else:\n",
    "    print('STRONG PASSWORD')"
   ]
  },
  {
   "cell_type": "markdown",
   "id": "53a96911-ca03-4567-a372-13731e1ea4c2",
   "metadata": {},
   "source": [
    "**\"if\" statement with \"in\" operator**"
   ]
  },
  {
   "cell_type": "code",
   "execution_count": 88,
   "id": "d59f2925-925d-40ab-9f7d-a9c2194dc338",
   "metadata": {},
   "outputs": [
    {
     "name": "stdin",
     "output_type": "stream",
     "text": [
      "Enter a number:  3\n"
     ]
    },
    {
     "name": "stdout",
     "output_type": "stream",
     "text": [
      "3 is in the list.\n"
     ]
    }
   ],
   "source": [
    "#to check if number entered by user is in the list\n",
    "num = int(input(\"Enter a number: \"))\n",
    "if num in [1, 2, 3, 4, 5]:\n",
    "    print(f\"{num} is in the list.\")"
   ]
  },
  {
   "cell_type": "markdown",
   "id": "fdd5f7e5-deb6-4bcf-8294-11205bb761dc",
   "metadata": {},
   "source": [
    "**\"if\" with \"not in\" operator**"
   ]
  },
  {
   "cell_type": "code",
   "execution_count": 84,
   "id": "d29cde79-63df-41e4-b91e-a5cf6a93216d",
   "metadata": {},
   "outputs": [
    {
     "name": "stdin",
     "output_type": "stream",
     "text": [
      "Enter a number:  4\n"
     ]
    },
    {
     "name": "stdout",
     "output_type": "stream",
     "text": [
      "4 is in the list.\n"
     ]
    }
   ],
   "source": [
    "#to check if number entered by user is in the list or not\n",
    "num = int(input(\"Enter a number: \"))\n",
    "if num in [1, 2, 3, 4, 5]:\n",
    "    print(f\"{num} is in the list.\")\n",
    "else:\n",
    "    print(f\"{num} is not in the list.\")"
   ]
  },
  {
   "cell_type": "markdown",
   "id": "b566b6e2-d699-4cc9-b811-72717abf0bc2",
   "metadata": {},
   "source": [
    "**for loop**"
   ]
  },
  {
   "cell_type": "code",
   "execution_count": 24,
   "id": "6f5acaf8-10cc-4cda-9749-f9c92dc73ed9",
   "metadata": {},
   "outputs": [
    {
     "name": "stdout",
     "output_type": "stream",
     "text": [
      "apple\n",
      "banana\n",
      "cherry\n",
      "papaya\n",
      "watermelon\n"
     ]
    }
   ],
   "source": [
    "#To print list of fruits\n",
    "fruits=['apple','banana','cherry','papaya','watermelon']\n",
    "for fruit in fruits:\n",
    "    print(fruit)"
   ]
  },
  {
   "cell_type": "code",
   "execution_count": 52,
   "id": "030d81f2-d5fd-4ccd-affc-c04c49f21bc6",
   "metadata": {},
   "outputs": [
    {
     "name": "stdin",
     "output_type": "stream",
     "text": [
      "Enter which table you want 5\n"
     ]
    },
    {
     "name": "stdout",
     "output_type": "stream",
     "text": [
      "5 x 1 =  5\n",
      "5 x 2 =  10\n",
      "5 x 3 =  15\n",
      "5 x 4 =  20\n",
      "5 x 5 =  25\n",
      "5 x 6 =  30\n",
      "5 x 7 =  35\n",
      "5 x 8 =  40\n",
      "5 x 9 =  45\n",
      "5 x 10 =  50\n"
     ]
    }
   ],
   "source": [
    "#multiplication table\n",
    "multiplication=int(input('Enter which table you want'))\n",
    "for i in range(1,11):\n",
    "    print('{} x {} = '.format(multiplication,i),multiplication*i)"
   ]
  },
  {
   "cell_type": "markdown",
   "id": "41e43a6c-6320-4ede-9f16-fc3d75a489ae",
   "metadata": {},
   "source": [
    "**for** with **if statement**"
   ]
  },
  {
   "cell_type": "code",
   "execution_count": 36,
   "id": "d546e82f-f074-4589-a249-e16c2195925c",
   "metadata": {},
   "outputs": [
    {
     "name": "stdout",
     "output_type": "stream",
     "text": [
      "1\n",
      "2\n",
      "3\n",
      "4\n",
      "6\n",
      "7\n",
      "8\n",
      "9\n",
      "10\n"
     ]
    }
   ],
   "source": [
    "#Skips number 5 and prints numbers from 1-10\n",
    "for i in range(1,11):\n",
    "    if i == 5:\n",
    "        continue #Skip\n",
    "    print(i)"
   ]
  },
  {
   "cell_type": "markdown",
   "id": "9f13d2f0-1781-405a-9354-ec929ac1a5be",
   "metadata": {},
   "source": [
    "**\"for loop\" with \"in\" operator**"
   ]
  },
  {
   "cell_type": "code",
   "execution_count": 40,
   "id": "d457d47c-aa93-4f00-96df-96cf1e09a0ea",
   "metadata": {},
   "outputs": [
    {
     "name": "stdout",
     "output_type": "stream",
     "text": [
      "2\n",
      "3\n",
      "4\n",
      "5\n",
      "6\n",
      "7\n",
      "8\n",
      "9\n"
     ]
    }
   ],
   "source": [
    "#prints numbers fromn 2-9\n",
    "for i in range(2,10):\n",
    "    print(i)"
   ]
  },
  {
   "cell_type": "code",
   "execution_count": 56,
   "id": "c9ba42e0-356c-446f-8d1a-7cd907135338",
   "metadata": {},
   "outputs": [
    {
     "name": "stdout",
     "output_type": "stream",
     "text": [
      "1\n",
      "3\n",
      "5\n",
      "7\n",
      "9\n"
     ]
    }
   ],
   "source": [
    "#prints numbers between 1-11 with a step count of 2\n",
    "for i in range(1,11,2):\n",
    "    print(i)"
   ]
  },
  {
   "cell_type": "markdown",
   "id": "7916a9ca-a425-4543-b5d6-3778df697af5",
   "metadata": {},
   "source": [
    "**\"for loop\" with \"not in\" operator**"
   ]
  },
  {
   "cell_type": "code",
   "execution_count": 70,
   "id": "fb82d9f2-aac7-49d5-bf98-a50d9d9cd984",
   "metadata": {},
   "outputs": [
    {
     "name": "stdout",
     "output_type": "stream",
     "text": [
      "apple\n",
      "cherry\n"
     ]
    }
   ],
   "source": [
    "#to print other fruits given in list except banana\n",
    "fruits=[\"apple\", \"banana\", \"cherry\"]\n",
    "for fruit in fruits:\n",
    "    if fruit not in [\"banana\"]:\n",
    "        print(fruit)"
   ]
  },
  {
   "cell_type": "markdown",
   "id": "630b46d9-94d6-45ab-be25-7b2d252fd7aa",
   "metadata": {},
   "source": [
    "**break statement**"
   ]
  },
  {
   "cell_type": "code",
   "execution_count": 27,
   "id": "9aecce8d-1541-46ca-a4fe-41d24928d312",
   "metadata": {},
   "outputs": [
    {
     "name": "stdout",
     "output_type": "stream",
     "text": [
      "apple\n",
      "banana\n"
     ]
    }
   ],
   "source": [
    "#Iterates until the fruit is cherry and if it is cherry then terminates the loop\n",
    "fruits = ['apple','banana','cherry','papaya','watermelon']\n",
    "for fruit in fruits:\n",
    "  if fruit == \"cherry\":\n",
    "    break\n",
    "  print(fruit)"
   ]
  },
  {
   "cell_type": "markdown",
   "id": "8236c574-ea0d-43a3-8403-75b0a6464b85",
   "metadata": {},
   "source": [
    "**continue**"
   ]
  },
  {
   "cell_type": "code",
   "execution_count": 29,
   "id": "24a962ba-b6c6-4383-8095-0ff195c2b3a9",
   "metadata": {},
   "outputs": [
    {
     "name": "stdout",
     "output_type": "stream",
     "text": [
      "apple\n",
      "banana\n",
      "papaya\n",
      "watermelon\n"
     ]
    }
   ],
   "source": [
    "#Skips the fruit cherry and continues other iterations\n",
    "fruits = ['apple','banana','cherry','papaya','watermelon']\n",
    "for fruit in fruits:\n",
    "  if fruit == \"cherry\":\n",
    "    continue\n",
    "  print(fruit)"
   ]
  },
  {
   "cell_type": "markdown",
   "id": "89d2e862-dee7-4b95-b93e-5c92f45ad803",
   "metadata": {},
   "source": [
    "**while loop**-"
   ]
  },
  {
   "cell_type": "code",
   "execution_count": 4,
   "id": "3a79afce-5d99-43e9-8ebd-367e7cb34438",
   "metadata": {},
   "outputs": [
    {
     "name": "stdout",
     "output_type": "stream",
     "text": [
      "1\n",
      "2\n",
      "3\n",
      "4\n",
      "5\n"
     ]
    }
   ],
   "source": [
    "#Print numbers 1-5\n",
    "i = 1\n",
    "while i < 6:\n",
    "  print(i)\n",
    "  i += 1"
   ]
  },
  {
   "cell_type": "code",
   "execution_count": 34,
   "id": "6dffbe8e-4403-4532-9787-fbb010561c07",
   "metadata": {},
   "outputs": [
    {
     "name": "stdin",
     "output_type": "stream",
     "text": [
      "Enter which table you want 56\n"
     ]
    },
    {
     "name": "stdout",
     "output_type": "stream",
     "text": [
      "56 x 1 = 56\n",
      "56 x 2 = 112\n",
      "56 x 3 = 168\n",
      "56 x 4 = 224\n",
      "56 x 5 = 280\n",
      "56 x 6 = 336\n",
      "56 x 7 = 392\n",
      "56 x 8 = 448\n",
      "56 x 9 = 504\n",
      "56 x 10 = 560\n",
      "56 x 11 = 616\n",
      "56 x 12 = 672\n",
      "56 x 13 = 728\n",
      "56 x 14 = 784\n",
      "56 x 15 = 840\n",
      "56 x 16 = 896\n",
      "56 x 17 = 952\n",
      "56 x 18 = 1008\n",
      "56 x 19 = 1064\n",
      "56 x 20 = 1120\n"
     ]
    }
   ],
   "source": [
    "#multiplication table \n",
    "multiplication = int(input('Enter which table you want'))\n",
    "i=1\n",
    "while i<21:\n",
    "    print(f\"{multiplication} x {i} = {multiplication*i}\")\n",
    "    i=i+1"
   ]
  },
  {
   "cell_type": "code",
   "execution_count": 10,
   "id": "c1c64414-fbe2-4297-b779-123af8a6ac2c",
   "metadata": {},
   "outputs": [
    {
     "name": "stdin",
     "output_type": "stream",
     "text": [
      "Please enter your password    3453frrg\n"
     ]
    },
    {
     "name": "stdout",
     "output_type": "stream",
     "text": [
      "oops! wrong password \n",
      "try again\n"
     ]
    },
    {
     "name": "stdin",
     "output_type": "stream",
     "text": [
      "Please enter your password    23434\n"
     ]
    },
    {
     "name": "stdout",
     "output_type": "stream",
     "text": [
      "oops! wrong password \n",
      "try again\n"
     ]
    },
    {
     "name": "stdin",
     "output_type": "stream",
     "text": [
      "Please enter your password    Spoorthi$12345\n"
     ]
    },
    {
     "name": "stdout",
     "output_type": "stream",
     "text": [
      "Right Password\n"
     ]
    }
   ],
   "source": [
    "#To check if password is right\n",
    "while True:\n",
    "    password=input('Please enter your password   ')\n",
    "    if password=='Spoorthi$12345':\n",
    "        print(\"Right Password\")\n",
    "        break\n",
    "    else:\n",
    "        print(\"oops! wrong password \\ntry again\")\n",
    "    "
   ]
  },
  {
   "cell_type": "markdown",
   "id": "35493c6b-e055-44c1-b30d-3a220c7f591e",
   "metadata": {},
   "source": [
    "**user defined functions without for loop or if loop**"
   ]
  },
  {
   "cell_type": "code",
   "execution_count": 48,
   "id": "25532f34-8b6b-4d5b-b07e-277406a01517",
   "metadata": {},
   "outputs": [
    {
     "name": "stdin",
     "output_type": "stream",
     "text": [
      "Enter the minuend:  7\n",
      "Enter the subtrahend:  8\n"
     ]
    },
    {
     "name": "stdout",
     "output_type": "stream",
     "text": [
      "7 - 8 = -1\n"
     ]
    }
   ],
   "source": [
    "#to find the difference of numbers given by user\n",
    "def subtraction(a, b):\n",
    "    print(f\"{a} - {b} = {a - b}\")\n",
    "\n",
    "x = int(input('Enter the minuend: '))\n",
    "y = int(input('Enter the subtrahend: '))\n",
    "subtraction(x, y)"
   ]
  },
  {
   "cell_type": "markdown",
   "id": "a29ce359-adfd-4e63-a044-97d767c33cff",
   "metadata": {},
   "source": [
    " **user defined functions with for loop**"
   ]
  },
  {
   "cell_type": "code",
   "execution_count": 51,
   "id": "59d761e3-d1e8-43c8-87ea-927874778594",
   "metadata": {},
   "outputs": [
    {
     "name": "stdin",
     "output_type": "stream",
     "text": [
      "Enter a number to print its multiplication table:  7\n"
     ]
    },
    {
     "name": "stdout",
     "output_type": "stream",
     "text": [
      "7 x 1 = 7\n",
      "7 x 2 = 14\n",
      "7 x 3 = 21\n",
      "7 x 4 = 28\n",
      "7 x 5 = 35\n",
      "7 x 6 = 42\n",
      "7 x 7 = 49\n",
      "7 x 8 = 56\n",
      "7 x 9 = 63\n",
      "7 x 10 = 70\n"
     ]
    }
   ],
   "source": [
    "#multiplication table\n",
    "def multiplication_table(m):\n",
    "    for i in range(1, 11):\n",
    "        print(f\"{m} x {i} = {m * i}\")\n",
    "\n",
    "num = int(input(\"Enter a number to print its multiplication table: \"))\n",
    "multiplication_table(num)"
   ]
  },
  {
   "cell_type": "markdown",
   "id": "3b9d5ec3-0e28-4f58-b301-5407c5fd9cef",
   "metadata": {},
   "source": [
    "**user defined functions with for loop and if condition**"
   ]
  },
  {
   "cell_type": "code",
   "execution_count": 63,
   "id": "6a3ac1f5-4660-4a0d-b594-370424eaafe5",
   "metadata": {},
   "outputs": [
    {
     "name": "stdin",
     "output_type": "stream",
     "text": [
      "Enter a number:  7\n"
     ]
    },
    {
     "name": "stdout",
     "output_type": "stream",
     "text": [
      "1 is odd\n",
      "2 is even\n",
      "3 is odd\n",
      "4 is even\n",
      "5 is odd\n",
      "6 is even\n",
      "7 is odd\n"
     ]
    }
   ],
   "source": [
    "#to check even or odd in a range entered by user\n",
    "def even_odd(n):\n",
    "    for i in range(1, n + 1):\n",
    "        if i % 2 == 0:\n",
    "            print(f\"{i} is even\")\n",
    "        else:\n",
    "            print(f\"{i} is odd\")\n",
    "\n",
    "num = int(input(\"Enter a number: \"))\n",
    "even_odd(num)"
   ]
  }
 ],
 "metadata": {
  "kernelspec": {
   "display_name": "Python [conda env:base] *",
   "language": "python",
   "name": "conda-base-py"
  },
  "language_info": {
   "codemirror_mode": {
    "name": "ipython",
    "version": 3
   },
   "file_extension": ".py",
   "mimetype": "text/x-python",
   "name": "python",
   "nbconvert_exporter": "python",
   "pygments_lexer": "ipython3",
   "version": "3.12.7"
  }
 },
 "nbformat": 4,
 "nbformat_minor": 5
}
